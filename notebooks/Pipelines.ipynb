{
 "cells": [
  {
   "cell_type": "code",
   "execution_count": 1,
   "metadata": {
    "ExecuteTime": {
     "end_time": "2021-11-19T17:26:50.387299Z",
     "start_time": "2021-11-19T17:26:33.591382Z"
    }
   },
   "outputs": [
    {
     "data": {
      "application/javascript": [
       "\n",
       "(function(root) {\n",
       "  function now() {\n",
       "    return new Date();\n",
       "  }\n",
       "\n",
       "  var force = true;\n",
       "\n",
       "  if (typeof root._bokeh_onload_callbacks === \"undefined\" || force === true) {\n",
       "    root._bokeh_onload_callbacks = [];\n",
       "    root._bokeh_is_loading = undefined;\n",
       "  }\n",
       "\n",
       "  if (typeof (root._bokeh_timeout) === \"undefined\" || force === true) {\n",
       "    root._bokeh_timeout = Date.now() + 5000;\n",
       "    root._bokeh_failed_load = false;\n",
       "  }\n",
       "\n",
       "  function run_callbacks() {\n",
       "    try {\n",
       "      root._bokeh_onload_callbacks.forEach(function(callback) {\n",
       "        if (callback != null)\n",
       "          callback();\n",
       "      });\n",
       "    } finally {\n",
       "      delete root._bokeh_onload_callbacks\n",
       "    }\n",
       "    console.debug(\"Bokeh: all callbacks have finished\");\n",
       "  }\n",
       "\n",
       "  function load_libs(css_urls, js_urls, js_modules, callback) {\n",
       "    if (css_urls == null) css_urls = [];\n",
       "    if (js_urls == null) js_urls = [];\n",
       "    if (js_modules == null) js_modules = [];\n",
       "\n",
       "    root._bokeh_onload_callbacks.push(callback);\n",
       "    if (root._bokeh_is_loading > 0) {\n",
       "      console.debug(\"Bokeh: BokehJS is being loaded, scheduling callback at\", now());\n",
       "      return null;\n",
       "    }\n",
       "    if (js_urls.length === 0 && js_modules.length === 0) {\n",
       "      run_callbacks();\n",
       "      return null;\n",
       "    }\n",
       "    console.debug(\"Bokeh: BokehJS not loaded, scheduling load and callback at\", now());\n",
       "    root._bokeh_is_loading = css_urls.length + js_urls.length + js_modules.length;\n",
       "\n",
       "    function on_load() {\n",
       "      root._bokeh_is_loading--;\n",
       "      if (root._bokeh_is_loading === 0) {\n",
       "        console.debug(\"Bokeh: all BokehJS libraries/stylesheets loaded\");\n",
       "        run_callbacks()\n",
       "      }\n",
       "    }\n",
       "\n",
       "    function on_error() {\n",
       "      console.error(\"failed to load \" + url);\n",
       "    }\n",
       "\n",
       "    for (var i = 0; i < css_urls.length; i++) {\n",
       "      var url = css_urls[i];\n",
       "      const element = document.createElement(\"link\");\n",
       "      element.onload = on_load;\n",
       "      element.onerror = on_error;\n",
       "      element.rel = \"stylesheet\";\n",
       "      element.type = \"text/css\";\n",
       "      element.href = url;\n",
       "      console.debug(\"Bokeh: injecting link tag for BokehJS stylesheet: \", url);\n",
       "      document.body.appendChild(element);\n",
       "    }\n",
       "\n",
       "    var skip = [];\n",
       "    if (window.requirejs) {\n",
       "      window.requirejs.config({'packages': {}, 'paths': {'katex': 'https://cdnjs.cloudflare.com/ajax/libs/KaTeX/0.6.0/katex.min', 'autoLoad': 'https://cdn.jsdelivr.net/npm/katex@0.10.1/dist/contrib/auto-render.min'}, 'shim': {}});\n",
       "      \n",
       "      require([\"katex\"], function(katex) {\n",
       "\twindow.katex = katex\n",
       "      })\n",
       "      \n",
       "      require([\"autoLoad\"], function(renderMathInElement) {\n",
       "\twindow.renderMathInElement = renderMathInElement\n",
       "      })\n",
       "      \n",
       "    }\n",
       "    if (((window['katex'] !== undefined) && (!(window['katex'] instanceof HTMLElement))) || window.requirejs) {\n",
       "      var urls = ['https://cdnjs.cloudflare.com/ajax/libs/KaTeX/0.6.0/katex.min.js'];\n",
       "      for (var i = 0; i < urls.length; i++) {\n",
       "        skip.push(urls[i])\n",
       "      }\n",
       "    }\n",
       "    if (((window['renderMathInElement'] !== undefined) && (!(window['renderMathInElement'] instanceof HTMLElement))) || window.requirejs) {\n",
       "      var urls = ['https://cdn.jsdelivr.net/npm/katex@0.10.1/dist/contrib/auto-render.min.js'];\n",
       "      for (var i = 0; i < urls.length; i++) {\n",
       "        skip.push(urls[i])\n",
       "      }\n",
       "    }\n",
       "    for (var i = 0; i < js_urls.length; i++) {\n",
       "      var url = js_urls[i];\n",
       "      if (skip.indexOf(url) >= 0) { on_load(); continue; }\n",
       "      var element = document.createElement('script');\n",
       "      element.onload = on_load;\n",
       "      element.onerror = on_error;\n",
       "      element.async = false;\n",
       "      element.src = url;\n",
       "      console.debug(\"Bokeh: injecting script tag for BokehJS library: \", url);\n",
       "      document.head.appendChild(element);\n",
       "    }\n",
       "    for (var i = 0; i < js_modules.length; i++) {\n",
       "      var url = js_modules[i];\n",
       "      if (skip.indexOf(url) >= 0) { on_load(); continue; }\n",
       "      var element = document.createElement('script');\n",
       "      element.onload = on_load;\n",
       "      element.onerror = on_error;\n",
       "      element.async = false;\n",
       "      element.src = url;\n",
       "      element.type = \"module\";\n",
       "      console.debug(\"Bokeh: injecting script tag for BokehJS library: \", url);\n",
       "      document.head.appendChild(element);\n",
       "    }\n",
       "    if (!js_urls.length && !js_modules.length) {\n",
       "      on_load()\n",
       "    }\n",
       "  };\n",
       "\n",
       "  function inject_raw_css(css) {\n",
       "    const element = document.createElement(\"style\");\n",
       "    element.appendChild(document.createTextNode(css));\n",
       "    document.body.appendChild(element);\n",
       "  }\n",
       "\n",
       "  var js_urls = [\"https://cdnjs.cloudflare.com/ajax/libs/KaTeX/0.6.0/katex.min.js\", \"https://cdn.jsdelivr.net/npm/katex@0.10.1/dist/contrib/auto-render.min.js\", \"https://cdn.bokeh.org/bokeh/release/bokeh-2.3.3.min.js\", \"https://cdn.bokeh.org/bokeh/release/bokeh-widgets-2.3.3.min.js\", \"https://cdn.bokeh.org/bokeh/release/bokeh-tables-2.3.3.min.js\", \"https://unpkg.com/@holoviz/panel@0.12.1/dist/panel.min.js\"];\n",
       "  var js_modules = [];\n",
       "  var css_urls = [\"https://cdnjs.cloudflare.com/ajax/libs/KaTeX/0.6.0/katex.min.css\", \"https://unpkg.com/@holoviz/panel@0.12.1/dist/css/alerts.css\", \"https://unpkg.com/@holoviz/panel@0.12.1/dist/css/card.css\", \"https://unpkg.com/@holoviz/panel@0.12.1/dist/css/dataframe.css\", \"https://unpkg.com/@holoviz/panel@0.12.1/dist/css/json.css\", \"https://unpkg.com/@holoviz/panel@0.12.1/dist/css/loading.css\", \"https://unpkg.com/@holoviz/panel@0.12.1/dist/css/markdown.css\", \"https://unpkg.com/@holoviz/panel@0.12.1/dist/css/widgets.css\"];\n",
       "  var inline_js = [\n",
       "    function(Bokeh) {\n",
       "      inject_raw_css(\"\\n    .bk.pn-loading.arcs:before {\\n      background-image: url(\\\"data:image/svg+xml;base64,PHN2ZyB4bWxucz0iaHR0cDovL3d3dy53My5vcmcvMjAwMC9zdmciIHhtbG5zOnhsaW5rPSJodHRwOi8vd3d3LnczLm9yZy8xOTk5L3hsaW5rIiBzdHlsZT0ibWFyZ2luOiBhdXRvOyBiYWNrZ3JvdW5kOiBub25lOyBkaXNwbGF5OiBibG9jazsgc2hhcGUtcmVuZGVyaW5nOiBhdXRvOyIgdmlld0JveD0iMCAwIDEwMCAxMDAiIHByZXNlcnZlQXNwZWN0UmF0aW89InhNaWRZTWlkIj4gIDxjaXJjbGUgY3g9IjUwIiBjeT0iNTAiIHI9IjMyIiBzdHJva2Utd2lkdGg9IjgiIHN0cm9rZT0iI2MzYzNjMyIgc3Ryb2tlLWRhc2hhcnJheT0iNTAuMjY1NDgyNDU3NDM2NjkgNTAuMjY1NDgyNDU3NDM2NjkiIGZpbGw9Im5vbmUiIHN0cm9rZS1saW5lY2FwPSJyb3VuZCI+ICAgIDxhbmltYXRlVHJhbnNmb3JtIGF0dHJpYnV0ZU5hbWU9InRyYW5zZm9ybSIgdHlwZT0icm90YXRlIiByZXBlYXRDb3VudD0iaW5kZWZpbml0ZSIgZHVyPSIxcyIga2V5VGltZXM9IjA7MSIgdmFsdWVzPSIwIDUwIDUwOzM2MCA1MCA1MCI+PC9hbmltYXRlVHJhbnNmb3JtPiAgPC9jaXJjbGU+PC9zdmc+\\\")\\n    }\\n    \");\n",
       "    },\n",
       "    function(Bokeh) {\n",
       "      Bokeh.set_log_level(\"info\");\n",
       "    },\n",
       "    function(Bokeh) {} // ensure no trailing comma for IE\n",
       "  ];\n",
       "\n",
       "  function run_inline_js() {\n",
       "    if ((root.Bokeh !== undefined) || (force === true)) {\n",
       "      for (var i = 0; i < inline_js.length; i++) {\n",
       "        inline_js[i].call(root, root.Bokeh);\n",
       "      }} else if (Date.now() < root._bokeh_timeout) {\n",
       "      setTimeout(run_inline_js, 100);\n",
       "    } else if (!root._bokeh_failed_load) {\n",
       "      console.log(\"Bokeh: BokehJS failed to load within specified timeout.\");\n",
       "      root._bokeh_failed_load = true;\n",
       "    }\n",
       "  }\n",
       "\n",
       "  if (root._bokeh_is_loading === 0) {\n",
       "    console.debug(\"Bokeh: BokehJS loaded, going straight to plotting\");\n",
       "    run_inline_js();\n",
       "  } else {\n",
       "    load_libs(css_urls, js_urls, js_modules, function() {\n",
       "      console.debug(\"Bokeh: BokehJS plotting callback run at\", now());\n",
       "      run_inline_js();\n",
       "    });\n",
       "  }\n",
       "}(window));"
      ],
      "application/vnd.holoviews_load.v0+json": "\n(function(root) {\n  function now() {\n    return new Date();\n  }\n\n  var force = true;\n\n  if (typeof root._bokeh_onload_callbacks === \"undefined\" || force === true) {\n    root._bokeh_onload_callbacks = [];\n    root._bokeh_is_loading = undefined;\n  }\n\n  if (typeof (root._bokeh_timeout) === \"undefined\" || force === true) {\n    root._bokeh_timeout = Date.now() + 5000;\n    root._bokeh_failed_load = false;\n  }\n\n  function run_callbacks() {\n    try {\n      root._bokeh_onload_callbacks.forEach(function(callback) {\n        if (callback != null)\n          callback();\n      });\n    } finally {\n      delete root._bokeh_onload_callbacks\n    }\n    console.debug(\"Bokeh: all callbacks have finished\");\n  }\n\n  function load_libs(css_urls, js_urls, js_modules, callback) {\n    if (css_urls == null) css_urls = [];\n    if (js_urls == null) js_urls = [];\n    if (js_modules == null) js_modules = [];\n\n    root._bokeh_onload_callbacks.push(callback);\n    if (root._bokeh_is_loading > 0) {\n      console.debug(\"Bokeh: BokehJS is being loaded, scheduling callback at\", now());\n      return null;\n    }\n    if (js_urls.length === 0 && js_modules.length === 0) {\n      run_callbacks();\n      return null;\n    }\n    console.debug(\"Bokeh: BokehJS not loaded, scheduling load and callback at\", now());\n    root._bokeh_is_loading = css_urls.length + js_urls.length + js_modules.length;\n\n    function on_load() {\n      root._bokeh_is_loading--;\n      if (root._bokeh_is_loading === 0) {\n        console.debug(\"Bokeh: all BokehJS libraries/stylesheets loaded\");\n        run_callbacks()\n      }\n    }\n\n    function on_error() {\n      console.error(\"failed to load \" + url);\n    }\n\n    for (var i = 0; i < css_urls.length; i++) {\n      var url = css_urls[i];\n      const element = document.createElement(\"link\");\n      element.onload = on_load;\n      element.onerror = on_error;\n      element.rel = \"stylesheet\";\n      element.type = \"text/css\";\n      element.href = url;\n      console.debug(\"Bokeh: injecting link tag for BokehJS stylesheet: \", url);\n      document.body.appendChild(element);\n    }\n\n    var skip = [];\n    if (window.requirejs) {\n      window.requirejs.config({'packages': {}, 'paths': {'katex': 'https://cdnjs.cloudflare.com/ajax/libs/KaTeX/0.6.0/katex.min', 'autoLoad': 'https://cdn.jsdelivr.net/npm/katex@0.10.1/dist/contrib/auto-render.min'}, 'shim': {}});\n      \n      require([\"katex\"], function(katex) {\n\twindow.katex = katex\n      })\n      \n      require([\"autoLoad\"], function(renderMathInElement) {\n\twindow.renderMathInElement = renderMathInElement\n      })\n      \n    }\n    if (((window['katex'] !== undefined) && (!(window['katex'] instanceof HTMLElement))) || window.requirejs) {\n      var urls = ['https://cdnjs.cloudflare.com/ajax/libs/KaTeX/0.6.0/katex.min.js'];\n      for (var i = 0; i < urls.length; i++) {\n        skip.push(urls[i])\n      }\n    }\n    if (((window['renderMathInElement'] !== undefined) && (!(window['renderMathInElement'] instanceof HTMLElement))) || window.requirejs) {\n      var urls = ['https://cdn.jsdelivr.net/npm/katex@0.10.1/dist/contrib/auto-render.min.js'];\n      for (var i = 0; i < urls.length; i++) {\n        skip.push(urls[i])\n      }\n    }\n    for (var i = 0; i < js_urls.length; i++) {\n      var url = js_urls[i];\n      if (skip.indexOf(url) >= 0) { on_load(); continue; }\n      var element = document.createElement('script');\n      element.onload = on_load;\n      element.onerror = on_error;\n      element.async = false;\n      element.src = url;\n      console.debug(\"Bokeh: injecting script tag for BokehJS library: \", url);\n      document.head.appendChild(element);\n    }\n    for (var i = 0; i < js_modules.length; i++) {\n      var url = js_modules[i];\n      if (skip.indexOf(url) >= 0) { on_load(); continue; }\n      var element = document.createElement('script');\n      element.onload = on_load;\n      element.onerror = on_error;\n      element.async = false;\n      element.src = url;\n      element.type = \"module\";\n      console.debug(\"Bokeh: injecting script tag for BokehJS library: \", url);\n      document.head.appendChild(element);\n    }\n    if (!js_urls.length && !js_modules.length) {\n      on_load()\n    }\n  };\n\n  function inject_raw_css(css) {\n    const element = document.createElement(\"style\");\n    element.appendChild(document.createTextNode(css));\n    document.body.appendChild(element);\n  }\n\n  var js_urls = [\"https://cdnjs.cloudflare.com/ajax/libs/KaTeX/0.6.0/katex.min.js\", \"https://cdn.jsdelivr.net/npm/katex@0.10.1/dist/contrib/auto-render.min.js\", \"https://cdn.bokeh.org/bokeh/release/bokeh-2.3.3.min.js\", \"https://cdn.bokeh.org/bokeh/release/bokeh-widgets-2.3.3.min.js\", \"https://cdn.bokeh.org/bokeh/release/bokeh-tables-2.3.3.min.js\", \"https://unpkg.com/@holoviz/panel@0.12.1/dist/panel.min.js\"];\n  var js_modules = [];\n  var css_urls = [\"https://cdnjs.cloudflare.com/ajax/libs/KaTeX/0.6.0/katex.min.css\", \"https://unpkg.com/@holoviz/panel@0.12.1/dist/css/alerts.css\", \"https://unpkg.com/@holoviz/panel@0.12.1/dist/css/card.css\", \"https://unpkg.com/@holoviz/panel@0.12.1/dist/css/dataframe.css\", \"https://unpkg.com/@holoviz/panel@0.12.1/dist/css/json.css\", \"https://unpkg.com/@holoviz/panel@0.12.1/dist/css/loading.css\", \"https://unpkg.com/@holoviz/panel@0.12.1/dist/css/markdown.css\", \"https://unpkg.com/@holoviz/panel@0.12.1/dist/css/widgets.css\"];\n  var inline_js = [\n    function(Bokeh) {\n      inject_raw_css(\"\\n    .bk.pn-loading.arcs:before {\\n      background-image: url(\\\"data:image/svg+xml;base64,PHN2ZyB4bWxucz0iaHR0cDovL3d3dy53My5vcmcvMjAwMC9zdmciIHhtbG5zOnhsaW5rPSJodHRwOi8vd3d3LnczLm9yZy8xOTk5L3hsaW5rIiBzdHlsZT0ibWFyZ2luOiBhdXRvOyBiYWNrZ3JvdW5kOiBub25lOyBkaXNwbGF5OiBibG9jazsgc2hhcGUtcmVuZGVyaW5nOiBhdXRvOyIgdmlld0JveD0iMCAwIDEwMCAxMDAiIHByZXNlcnZlQXNwZWN0UmF0aW89InhNaWRZTWlkIj4gIDxjaXJjbGUgY3g9IjUwIiBjeT0iNTAiIHI9IjMyIiBzdHJva2Utd2lkdGg9IjgiIHN0cm9rZT0iI2MzYzNjMyIgc3Ryb2tlLWRhc2hhcnJheT0iNTAuMjY1NDgyNDU3NDM2NjkgNTAuMjY1NDgyNDU3NDM2NjkiIGZpbGw9Im5vbmUiIHN0cm9rZS1saW5lY2FwPSJyb3VuZCI+ICAgIDxhbmltYXRlVHJhbnNmb3JtIGF0dHJpYnV0ZU5hbWU9InRyYW5zZm9ybSIgdHlwZT0icm90YXRlIiByZXBlYXRDb3VudD0iaW5kZWZpbml0ZSIgZHVyPSIxcyIga2V5VGltZXM9IjA7MSIgdmFsdWVzPSIwIDUwIDUwOzM2MCA1MCA1MCI+PC9hbmltYXRlVHJhbnNmb3JtPiAgPC9jaXJjbGU+PC9zdmc+\\\")\\n    }\\n    \");\n    },\n    function(Bokeh) {\n      Bokeh.set_log_level(\"info\");\n    },\n    function(Bokeh) {} // ensure no trailing comma for IE\n  ];\n\n  function run_inline_js() {\n    if ((root.Bokeh !== undefined) || (force === true)) {\n      for (var i = 0; i < inline_js.length; i++) {\n        inline_js[i].call(root, root.Bokeh);\n      }} else if (Date.now() < root._bokeh_timeout) {\n      setTimeout(run_inline_js, 100);\n    } else if (!root._bokeh_failed_load) {\n      console.log(\"Bokeh: BokehJS failed to load within specified timeout.\");\n      root._bokeh_failed_load = true;\n    }\n  }\n\n  if (root._bokeh_is_loading === 0) {\n    console.debug(\"Bokeh: BokehJS loaded, going straight to plotting\");\n    run_inline_js();\n  } else {\n    load_libs(css_urls, js_urls, js_modules, function() {\n      console.debug(\"Bokeh: BokehJS plotting callback run at\", now());\n      run_inline_js();\n    });\n  }\n}(window));"
     },
     "metadata": {},
     "output_type": "display_data"
    },
    {
     "data": {
      "application/javascript": [
       "\n",
       "if ((window.PyViz === undefined) || (window.PyViz instanceof HTMLElement)) {\n",
       "  window.PyViz = {comms: {}, comm_status:{}, kernels:{}, receivers: {}, plot_index: []}\n",
       "}\n",
       "\n",
       "\n",
       "    function JupyterCommManager() {\n",
       "    }\n",
       "\n",
       "    JupyterCommManager.prototype.register_target = function(plot_id, comm_id, msg_handler) {\n",
       "      if (window.comm_manager || ((window.Jupyter !== undefined) && (Jupyter.notebook.kernel != null))) {\n",
       "        var comm_manager = window.comm_manager || Jupyter.notebook.kernel.comm_manager;\n",
       "        comm_manager.register_target(comm_id, function(comm) {\n",
       "          comm.on_msg(msg_handler);\n",
       "        });\n",
       "      } else if ((plot_id in window.PyViz.kernels) && (window.PyViz.kernels[plot_id])) {\n",
       "        window.PyViz.kernels[plot_id].registerCommTarget(comm_id, function(comm) {\n",
       "          comm.onMsg = msg_handler;\n",
       "        });\n",
       "      } else if (typeof google != 'undefined' && google.colab.kernel != null) {\n",
       "        google.colab.kernel.comms.registerTarget(comm_id, (comm) => {\n",
       "          var messages = comm.messages[Symbol.asyncIterator]();\n",
       "          function processIteratorResult(result) {\n",
       "            var message = result.value;\n",
       "            console.log(message)\n",
       "            var content = {data: message.data, comm_id};\n",
       "            var buffers = []\n",
       "            for (var buffer of message.buffers || []) {\n",
       "              buffers.push(new DataView(buffer))\n",
       "            }\n",
       "            var metadata = message.metadata || {};\n",
       "            var msg = {content, buffers, metadata}\n",
       "            msg_handler(msg);\n",
       "            return messages.next().then(processIteratorResult);\n",
       "          }\n",
       "          return messages.next().then(processIteratorResult);\n",
       "        })\n",
       "      }\n",
       "    }\n",
       "\n",
       "    JupyterCommManager.prototype.get_client_comm = function(plot_id, comm_id, msg_handler) {\n",
       "      if (comm_id in window.PyViz.comms) {\n",
       "        return window.PyViz.comms[comm_id];\n",
       "      } else if (window.comm_manager || ((window.Jupyter !== undefined) && (Jupyter.notebook.kernel != null))) {\n",
       "        var comm_manager = window.comm_manager || Jupyter.notebook.kernel.comm_manager;\n",
       "        var comm = comm_manager.new_comm(comm_id, {}, {}, {}, comm_id);\n",
       "        if (msg_handler) {\n",
       "          comm.on_msg(msg_handler);\n",
       "        }\n",
       "      } else if ((plot_id in window.PyViz.kernels) && (window.PyViz.kernels[plot_id])) {\n",
       "        var comm = window.PyViz.kernels[plot_id].connectToComm(comm_id);\n",
       "        comm.open();\n",
       "        if (msg_handler) {\n",
       "          comm.onMsg = msg_handler;\n",
       "        }\n",
       "      } else if (typeof google != 'undefined' && google.colab.kernel != null) {\n",
       "        var comm_promise = google.colab.kernel.comms.open(comm_id)\n",
       "        comm_promise.then((comm) => {\n",
       "          window.PyViz.comms[comm_id] = comm;\n",
       "          if (msg_handler) {\n",
       "            var messages = comm.messages[Symbol.asyncIterator]();\n",
       "            function processIteratorResult(result) {\n",
       "              var message = result.value;\n",
       "              var content = {data: message.data};\n",
       "              var metadata = message.metadata || {comm_id};\n",
       "              var msg = {content, metadata}\n",
       "              msg_handler(msg);\n",
       "              return messages.next().then(processIteratorResult);\n",
       "            }\n",
       "            return messages.next().then(processIteratorResult);\n",
       "          }\n",
       "        }) \n",
       "        var sendClosure = (data, metadata, buffers, disposeOnDone) => {\n",
       "          return comm_promise.then((comm) => {\n",
       "            comm.send(data, metadata, buffers, disposeOnDone);\n",
       "          });\n",
       "        };\n",
       "        var comm = {\n",
       "          send: sendClosure\n",
       "        };\n",
       "      }\n",
       "      window.PyViz.comms[comm_id] = comm;\n",
       "      return comm;\n",
       "    }\n",
       "    window.PyViz.comm_manager = new JupyterCommManager();\n",
       "    \n",
       "\n",
       "\n",
       "var JS_MIME_TYPE = 'application/javascript';\n",
       "var HTML_MIME_TYPE = 'text/html';\n",
       "var EXEC_MIME_TYPE = 'application/vnd.holoviews_exec.v0+json';\n",
       "var CLASS_NAME = 'output';\n",
       "\n",
       "/**\n",
       " * Render data to the DOM node\n",
       " */\n",
       "function render(props, node) {\n",
       "  var div = document.createElement(\"div\");\n",
       "  var script = document.createElement(\"script\");\n",
       "  node.appendChild(div);\n",
       "  node.appendChild(script);\n",
       "}\n",
       "\n",
       "/**\n",
       " * Handle when a new output is added\n",
       " */\n",
       "function handle_add_output(event, handle) {\n",
       "  var output_area = handle.output_area;\n",
       "  var output = handle.output;\n",
       "  if ((output.data == undefined) || (!output.data.hasOwnProperty(EXEC_MIME_TYPE))) {\n",
       "    return\n",
       "  }\n",
       "  var id = output.metadata[EXEC_MIME_TYPE][\"id\"];\n",
       "  var toinsert = output_area.element.find(\".\" + CLASS_NAME.split(' ')[0]);\n",
       "  if (id !== undefined) {\n",
       "    var nchildren = toinsert.length;\n",
       "    var html_node = toinsert[nchildren-1].children[0];\n",
       "    html_node.innerHTML = output.data[HTML_MIME_TYPE];\n",
       "    var scripts = [];\n",
       "    var nodelist = html_node.querySelectorAll(\"script\");\n",
       "    for (var i in nodelist) {\n",
       "      if (nodelist.hasOwnProperty(i)) {\n",
       "        scripts.push(nodelist[i])\n",
       "      }\n",
       "    }\n",
       "\n",
       "    scripts.forEach( function (oldScript) {\n",
       "      var newScript = document.createElement(\"script\");\n",
       "      var attrs = [];\n",
       "      var nodemap = oldScript.attributes;\n",
       "      for (var j in nodemap) {\n",
       "        if (nodemap.hasOwnProperty(j)) {\n",
       "          attrs.push(nodemap[j])\n",
       "        }\n",
       "      }\n",
       "      attrs.forEach(function(attr) { newScript.setAttribute(attr.name, attr.value) });\n",
       "      newScript.appendChild(document.createTextNode(oldScript.innerHTML));\n",
       "      oldScript.parentNode.replaceChild(newScript, oldScript);\n",
       "    });\n",
       "    if (JS_MIME_TYPE in output.data) {\n",
       "      toinsert[nchildren-1].children[1].textContent = output.data[JS_MIME_TYPE];\n",
       "    }\n",
       "    output_area._hv_plot_id = id;\n",
       "    if ((window.Bokeh !== undefined) && (id in Bokeh.index)) {\n",
       "      window.PyViz.plot_index[id] = Bokeh.index[id];\n",
       "    } else {\n",
       "      window.PyViz.plot_index[id] = null;\n",
       "    }\n",
       "  } else if (output.metadata[EXEC_MIME_TYPE][\"server_id\"] !== undefined) {\n",
       "    var bk_div = document.createElement(\"div\");\n",
       "    bk_div.innerHTML = output.data[HTML_MIME_TYPE];\n",
       "    var script_attrs = bk_div.children[0].attributes;\n",
       "    for (var i = 0; i < script_attrs.length; i++) {\n",
       "      toinsert[toinsert.length - 1].childNodes[1].setAttribute(script_attrs[i].name, script_attrs[i].value);\n",
       "    }\n",
       "    // store reference to server id on output_area\n",
       "    output_area._bokeh_server_id = output.metadata[EXEC_MIME_TYPE][\"server_id\"];\n",
       "  }\n",
       "}\n",
       "\n",
       "/**\n",
       " * Handle when an output is cleared or removed\n",
       " */\n",
       "function handle_clear_output(event, handle) {\n",
       "  var id = handle.cell.output_area._hv_plot_id;\n",
       "  var server_id = handle.cell.output_area._bokeh_server_id;\n",
       "  if (((id === undefined) || !(id in PyViz.plot_index)) && (server_id !== undefined)) { return; }\n",
       "  var comm = window.PyViz.comm_manager.get_client_comm(\"hv-extension-comm\", \"hv-extension-comm\", function () {});\n",
       "  if (server_id !== null) {\n",
       "    comm.send({event_type: 'server_delete', 'id': server_id});\n",
       "    return;\n",
       "  } else if (comm !== null) {\n",
       "    comm.send({event_type: 'delete', 'id': id});\n",
       "  }\n",
       "  delete PyViz.plot_index[id];\n",
       "  if ((window.Bokeh !== undefined) & (id in window.Bokeh.index)) {\n",
       "    var doc = window.Bokeh.index[id].model.document\n",
       "    doc.clear();\n",
       "    const i = window.Bokeh.documents.indexOf(doc);\n",
       "    if (i > -1) {\n",
       "      window.Bokeh.documents.splice(i, 1);\n",
       "    }\n",
       "  }\n",
       "}\n",
       "\n",
       "/**\n",
       " * Handle kernel restart event\n",
       " */\n",
       "function handle_kernel_cleanup(event, handle) {\n",
       "  delete PyViz.comms[\"hv-extension-comm\"];\n",
       "  window.PyViz.plot_index = {}\n",
       "}\n",
       "\n",
       "/**\n",
       " * Handle update_display_data messages\n",
       " */\n",
       "function handle_update_output(event, handle) {\n",
       "  handle_clear_output(event, {cell: {output_area: handle.output_area}})\n",
       "  handle_add_output(event, handle)\n",
       "}\n",
       "\n",
       "function register_renderer(events, OutputArea) {\n",
       "  function append_mime(data, metadata, element) {\n",
       "    // create a DOM node to render to\n",
       "    var toinsert = this.create_output_subarea(\n",
       "    metadata,\n",
       "    CLASS_NAME,\n",
       "    EXEC_MIME_TYPE\n",
       "    );\n",
       "    this.keyboard_manager.register_events(toinsert);\n",
       "    // Render to node\n",
       "    var props = {data: data, metadata: metadata[EXEC_MIME_TYPE]};\n",
       "    render(props, toinsert[0]);\n",
       "    element.append(toinsert);\n",
       "    return toinsert\n",
       "  }\n",
       "\n",
       "  events.on('output_added.OutputArea', handle_add_output);\n",
       "  events.on('output_updated.OutputArea', handle_update_output);\n",
       "  events.on('clear_output.CodeCell', handle_clear_output);\n",
       "  events.on('delete.Cell', handle_clear_output);\n",
       "  events.on('kernel_ready.Kernel', handle_kernel_cleanup);\n",
       "\n",
       "  OutputArea.prototype.register_mime_type(EXEC_MIME_TYPE, append_mime, {\n",
       "    safe: true,\n",
       "    index: 0\n",
       "  });\n",
       "}\n",
       "\n",
       "if (window.Jupyter !== undefined) {\n",
       "  try {\n",
       "    var events = require('base/js/events');\n",
       "    var OutputArea = require('notebook/js/outputarea').OutputArea;\n",
       "    if (OutputArea.prototype.mime_types().indexOf(EXEC_MIME_TYPE) == -1) {\n",
       "      register_renderer(events, OutputArea);\n",
       "    }\n",
       "  } catch(err) {\n",
       "  }\n",
       "}\n"
      ],
      "application/vnd.holoviews_load.v0+json": "\nif ((window.PyViz === undefined) || (window.PyViz instanceof HTMLElement)) {\n  window.PyViz = {comms: {}, comm_status:{}, kernels:{}, receivers: {}, plot_index: []}\n}\n\n\n    function JupyterCommManager() {\n    }\n\n    JupyterCommManager.prototype.register_target = function(plot_id, comm_id, msg_handler) {\n      if (window.comm_manager || ((window.Jupyter !== undefined) && (Jupyter.notebook.kernel != null))) {\n        var comm_manager = window.comm_manager || Jupyter.notebook.kernel.comm_manager;\n        comm_manager.register_target(comm_id, function(comm) {\n          comm.on_msg(msg_handler);\n        });\n      } else if ((plot_id in window.PyViz.kernels) && (window.PyViz.kernels[plot_id])) {\n        window.PyViz.kernels[plot_id].registerCommTarget(comm_id, function(comm) {\n          comm.onMsg = msg_handler;\n        });\n      } else if (typeof google != 'undefined' && google.colab.kernel != null) {\n        google.colab.kernel.comms.registerTarget(comm_id, (comm) => {\n          var messages = comm.messages[Symbol.asyncIterator]();\n          function processIteratorResult(result) {\n            var message = result.value;\n            console.log(message)\n            var content = {data: message.data, comm_id};\n            var buffers = []\n            for (var buffer of message.buffers || []) {\n              buffers.push(new DataView(buffer))\n            }\n            var metadata = message.metadata || {};\n            var msg = {content, buffers, metadata}\n            msg_handler(msg);\n            return messages.next().then(processIteratorResult);\n          }\n          return messages.next().then(processIteratorResult);\n        })\n      }\n    }\n\n    JupyterCommManager.prototype.get_client_comm = function(plot_id, comm_id, msg_handler) {\n      if (comm_id in window.PyViz.comms) {\n        return window.PyViz.comms[comm_id];\n      } else if (window.comm_manager || ((window.Jupyter !== undefined) && (Jupyter.notebook.kernel != null))) {\n        var comm_manager = window.comm_manager || Jupyter.notebook.kernel.comm_manager;\n        var comm = comm_manager.new_comm(comm_id, {}, {}, {}, comm_id);\n        if (msg_handler) {\n          comm.on_msg(msg_handler);\n        }\n      } else if ((plot_id in window.PyViz.kernels) && (window.PyViz.kernels[plot_id])) {\n        var comm = window.PyViz.kernels[plot_id].connectToComm(comm_id);\n        comm.open();\n        if (msg_handler) {\n          comm.onMsg = msg_handler;\n        }\n      } else if (typeof google != 'undefined' && google.colab.kernel != null) {\n        var comm_promise = google.colab.kernel.comms.open(comm_id)\n        comm_promise.then((comm) => {\n          window.PyViz.comms[comm_id] = comm;\n          if (msg_handler) {\n            var messages = comm.messages[Symbol.asyncIterator]();\n            function processIteratorResult(result) {\n              var message = result.value;\n              var content = {data: message.data};\n              var metadata = message.metadata || {comm_id};\n              var msg = {content, metadata}\n              msg_handler(msg);\n              return messages.next().then(processIteratorResult);\n            }\n            return messages.next().then(processIteratorResult);\n          }\n        }) \n        var sendClosure = (data, metadata, buffers, disposeOnDone) => {\n          return comm_promise.then((comm) => {\n            comm.send(data, metadata, buffers, disposeOnDone);\n          });\n        };\n        var comm = {\n          send: sendClosure\n        };\n      }\n      window.PyViz.comms[comm_id] = comm;\n      return comm;\n    }\n    window.PyViz.comm_manager = new JupyterCommManager();\n    \n\n\nvar JS_MIME_TYPE = 'application/javascript';\nvar HTML_MIME_TYPE = 'text/html';\nvar EXEC_MIME_TYPE = 'application/vnd.holoviews_exec.v0+json';\nvar CLASS_NAME = 'output';\n\n/**\n * Render data to the DOM node\n */\nfunction render(props, node) {\n  var div = document.createElement(\"div\");\n  var script = document.createElement(\"script\");\n  node.appendChild(div);\n  node.appendChild(script);\n}\n\n/**\n * Handle when a new output is added\n */\nfunction handle_add_output(event, handle) {\n  var output_area = handle.output_area;\n  var output = handle.output;\n  if ((output.data == undefined) || (!output.data.hasOwnProperty(EXEC_MIME_TYPE))) {\n    return\n  }\n  var id = output.metadata[EXEC_MIME_TYPE][\"id\"];\n  var toinsert = output_area.element.find(\".\" + CLASS_NAME.split(' ')[0]);\n  if (id !== undefined) {\n    var nchildren = toinsert.length;\n    var html_node = toinsert[nchildren-1].children[0];\n    html_node.innerHTML = output.data[HTML_MIME_TYPE];\n    var scripts = [];\n    var nodelist = html_node.querySelectorAll(\"script\");\n    for (var i in nodelist) {\n      if (nodelist.hasOwnProperty(i)) {\n        scripts.push(nodelist[i])\n      }\n    }\n\n    scripts.forEach( function (oldScript) {\n      var newScript = document.createElement(\"script\");\n      var attrs = [];\n      var nodemap = oldScript.attributes;\n      for (var j in nodemap) {\n        if (nodemap.hasOwnProperty(j)) {\n          attrs.push(nodemap[j])\n        }\n      }\n      attrs.forEach(function(attr) { newScript.setAttribute(attr.name, attr.value) });\n      newScript.appendChild(document.createTextNode(oldScript.innerHTML));\n      oldScript.parentNode.replaceChild(newScript, oldScript);\n    });\n    if (JS_MIME_TYPE in output.data) {\n      toinsert[nchildren-1].children[1].textContent = output.data[JS_MIME_TYPE];\n    }\n    output_area._hv_plot_id = id;\n    if ((window.Bokeh !== undefined) && (id in Bokeh.index)) {\n      window.PyViz.plot_index[id] = Bokeh.index[id];\n    } else {\n      window.PyViz.plot_index[id] = null;\n    }\n  } else if (output.metadata[EXEC_MIME_TYPE][\"server_id\"] !== undefined) {\n    var bk_div = document.createElement(\"div\");\n    bk_div.innerHTML = output.data[HTML_MIME_TYPE];\n    var script_attrs = bk_div.children[0].attributes;\n    for (var i = 0; i < script_attrs.length; i++) {\n      toinsert[toinsert.length - 1].childNodes[1].setAttribute(script_attrs[i].name, script_attrs[i].value);\n    }\n    // store reference to server id on output_area\n    output_area._bokeh_server_id = output.metadata[EXEC_MIME_TYPE][\"server_id\"];\n  }\n}\n\n/**\n * Handle when an output is cleared or removed\n */\nfunction handle_clear_output(event, handle) {\n  var id = handle.cell.output_area._hv_plot_id;\n  var server_id = handle.cell.output_area._bokeh_server_id;\n  if (((id === undefined) || !(id in PyViz.plot_index)) && (server_id !== undefined)) { return; }\n  var comm = window.PyViz.comm_manager.get_client_comm(\"hv-extension-comm\", \"hv-extension-comm\", function () {});\n  if (server_id !== null) {\n    comm.send({event_type: 'server_delete', 'id': server_id});\n    return;\n  } else if (comm !== null) {\n    comm.send({event_type: 'delete', 'id': id});\n  }\n  delete PyViz.plot_index[id];\n  if ((window.Bokeh !== undefined) & (id in window.Bokeh.index)) {\n    var doc = window.Bokeh.index[id].model.document\n    doc.clear();\n    const i = window.Bokeh.documents.indexOf(doc);\n    if (i > -1) {\n      window.Bokeh.documents.splice(i, 1);\n    }\n  }\n}\n\n/**\n * Handle kernel restart event\n */\nfunction handle_kernel_cleanup(event, handle) {\n  delete PyViz.comms[\"hv-extension-comm\"];\n  window.PyViz.plot_index = {}\n}\n\n/**\n * Handle update_display_data messages\n */\nfunction handle_update_output(event, handle) {\n  handle_clear_output(event, {cell: {output_area: handle.output_area}})\n  handle_add_output(event, handle)\n}\n\nfunction register_renderer(events, OutputArea) {\n  function append_mime(data, metadata, element) {\n    // create a DOM node to render to\n    var toinsert = this.create_output_subarea(\n    metadata,\n    CLASS_NAME,\n    EXEC_MIME_TYPE\n    );\n    this.keyboard_manager.register_events(toinsert);\n    // Render to node\n    var props = {data: data, metadata: metadata[EXEC_MIME_TYPE]};\n    render(props, toinsert[0]);\n    element.append(toinsert);\n    return toinsert\n  }\n\n  events.on('output_added.OutputArea', handle_add_output);\n  events.on('output_updated.OutputArea', handle_update_output);\n  events.on('clear_output.CodeCell', handle_clear_output);\n  events.on('delete.Cell', handle_clear_output);\n  events.on('kernel_ready.Kernel', handle_kernel_cleanup);\n\n  OutputArea.prototype.register_mime_type(EXEC_MIME_TYPE, append_mime, {\n    safe: true,\n    index: 0\n  });\n}\n\nif (window.Jupyter !== undefined) {\n  try {\n    var events = require('base/js/events');\n    var OutputArea = require('notebook/js/outputarea').OutputArea;\n    if (OutputArea.prototype.mime_types().indexOf(EXEC_MIME_TYPE) == -1) {\n      register_renderer(events, OutputArea);\n    }\n  } catch(err) {\n  }\n}\n"
     },
     "metadata": {},
     "output_type": "display_data"
    }
   ],
   "source": [
    "import param\n",
    "import panel as pn\n",
    "\n",
    "pn.extension('katex')"
   ]
  },
  {
   "cell_type": "markdown",
   "metadata": {},
   "source": [
    "The [Param user guide](Param.ipynb) described how to set up classes that declare parameters and link them to some computation or visualization. In this section we will discover how to connect multiple such panels into a ``Pipeline`` to express complex multi-page workflows where the output of one stage feeds into the next stage. \n",
    "\n",
    "To start using a ``Pipeline``, let us declare an empty one by instantiating the class:"
   ]
  },
  {
   "cell_type": "code",
   "execution_count": 2,
   "metadata": {
    "ExecuteTime": {
     "end_time": "2021-11-19T17:26:53.583821Z",
     "start_time": "2021-11-19T17:26:50.390287Z"
    }
   },
   "outputs": [],
   "source": [
    "pipeline = pn.pipeline.Pipeline()"
   ]
  },
  {
   "cell_type": "markdown",
   "metadata": {},
   "source": [
    "Having set up a Pipeline it is now possible to start populating it with one or more stages.  We have previously seen how a ``Parameterized`` class can have parameters controlling some visualization or computation on a method, with that linkage declared using the ``param.depends`` decorator. To use such classes as a pipeline stage, the `Parameterized` class will also need to designate at least one of the methods as an \"output\", and it should also provide a visual representation for that pipeline stage.\n",
    "\n",
    "To declare the output for a stage, decorate one of its methods with ``param.output``. A ``Pipeline`` will use this information to determine what outputs are available to be fed into the next stage of the workflow. In the example below, the ``Stage1`` class has two parameters (``a`` and ``b``) and one output (``c``). The signature of the decorator allows a number of different ways of declaring the outputs:\n",
    "\n",
    "* ``param.output()``: Declaring an output without arguments will declare that the method returns an output that will inherit the name of the method and does not make any specific type declarations.\n",
    "* ``param.output(param.Number)``: Declaring an output with a specific ``Parameter`` or Python type also declares an output with the name of the method but declares that the output will be of a specific type.\n",
    "* ``param.output(c=param.Number)``: Declaring an output using a keyword argument allows overriding the method name as the name of the output and declares the type.\n",
    "\n",
    "It is also possible to declare multiple outputs, either as keywords (Python >= 3.6 required) or tuples:\n",
    "\n",
    "* ``param.output(c=param.Number, d=param.String)`` or\n",
    "* ``param.output(('c', param.Number), ('d', param.String))``\n",
    "\n",
    "The example below takes two inputs (``a`` and ``b``) and produces two outputs (``c``, computed by mutiplying the inputs, and ``d``, computed by raising ``a`` to the power ``b``). To use the class as a pipeline stage, we also have to implement a ``panel`` method, which returns a Panel object providing a visual representation of the stage.  Here we help implement the ``panel`` method using an additional ``view`` method that returns a ``LaTeX`` pane, which will render the equation to ``LaTeX``. \n",
    "\n",
    "In addition to passing along the outputs, the Pipeline will also pass along the values of any input parameters whose names match input parameters on the next stage (unless ``inherit_params`` is set to `False`).\n",
    "\n",
    "Let's start by displaying this stage on its own:"
   ]
  },
  {
   "cell_type": "code",
   "execution_count": 3,
   "metadata": {
    "ExecuteTime": {
     "end_time": "2021-11-19T17:26:53.645559Z",
     "start_time": "2021-11-19T17:26:53.586809Z"
    }
   },
   "outputs": [
    {
     "data": {},
     "metadata": {},
     "output_type": "display_data"
    },
    {
     "data": {
      "application/vnd.holoviews_exec.v0+json": "",
      "text/html": [
       "<div id='1002'>\n",
       "\n",
       "\n",
       "\n",
       "\n",
       "\n",
       "  <div class=\"bk-root\" id=\"81c5d1ce-56a8-47ba-8533-e15bb777be75\" data-root-id=\"1002\"></div>\n",
       "</div>\n",
       "<script type=\"application/javascript\">(function(root) {\n",
       "  function embed_document(root) {\n",
       "    var docs_json = {\"60dee1bc-a7ef-4be3-81a9-b81100dc2268\":{\"defs\":[{\"extends\":null,\"module\":null,\"name\":\"ReactiveHTML1\",\"overrides\":[],\"properties\":[]},{\"extends\":null,\"module\":null,\"name\":\"FlexBox1\",\"overrides\":[],\"properties\":[{\"default\":\"flex-start\",\"kind\":null,\"name\":\"align_content\"},{\"default\":\"flex-start\",\"kind\":null,\"name\":\"align_items\"},{\"default\":\"row\",\"kind\":null,\"name\":\"flex_direction\"},{\"default\":\"wrap\",\"kind\":null,\"name\":\"flex_wrap\"},{\"default\":\"flex-start\",\"kind\":null,\"name\":\"justify_content\"}]},{\"extends\":null,\"module\":null,\"name\":\"TemplateActions1\",\"overrides\":[],\"properties\":[{\"default\":0,\"kind\":null,\"name\":\"open_modal\"},{\"default\":0,\"kind\":null,\"name\":\"close_modal\"}]},{\"extends\":null,\"module\":null,\"name\":\"MaterialTemplateActions1\",\"overrides\":[],\"properties\":[{\"default\":0,\"kind\":null,\"name\":\"open_modal\"},{\"default\":0,\"kind\":null,\"name\":\"close_modal\"}]}],\"roots\":{\"references\":[{\"attributes\":{\"client_comm_id\":\"e8434448c82b46b2ae5eb621763ec589\",\"comm_id\":\"d2c2f9c5306e4d029ee522ed8be1200f\",\"plot_id\":\"1002\"},\"id\":\"1009\",\"type\":\"panel.models.comm_manager.CommManager\"},{\"attributes\":{\"end\":10,\"margin\":[5,10,5,10],\"start\":0,\"step\":0.1,\"title\":\"A\",\"value\":5},\"id\":\"1005\",\"type\":\"Slider\"},{\"attributes\":{\"children\":[{\"id\":\"1008\"}],\"margin\":[0,0,0,0],\"name\":\"Row01780\"},\"id\":\"1007\",\"type\":\"Row\"},{\"attributes\":{\"end\":10,\"margin\":[5,10,5,10],\"start\":0,\"step\":0.1,\"title\":\"B\",\"value\":5},\"id\":\"1006\",\"type\":\"Slider\"},{\"attributes\":{\"margin\":[5,5,5,5],\"name\":\"LaTeX01781\",\"style\":{\"font-size\":\"2em\"},\"text\":\"$5 * 5 = 25$\\n$5^{5} = 3125$\"},\"id\":\"1008\",\"type\":\"panel.models.katex.KaTeX\"},{\"attributes\":{\"reload\":false},\"id\":\"1010\",\"type\":\"panel.models.location.Location\"},{\"attributes\":{\"children\":[{\"id\":\"1003\"},{\"id\":\"1007\"}],\"margin\":[0,0,0,0],\"name\":\"Row01785\"},\"id\":\"1002\",\"type\":\"Row\"},{\"attributes\":{\"margin\":[5,10,5,10],\"name\":\"\",\"text\":\"<b>Stage</b>\"},\"id\":\"1004\",\"type\":\"Div\"},{\"attributes\":{\"children\":[{\"id\":\"1004\"},{\"id\":\"1005\"},{\"id\":\"1006\"}],\"margin\":[5,5,5,5],\"min_width\":300,\"name\":\"Stage\",\"width\":300},\"id\":\"1003\",\"type\":\"Column\"}],\"root_ids\":[\"1002\",\"1009\",\"1010\"]},\"title\":\"Bokeh Application\",\"version\":\"2.3.3\"}};\n",
       "    var render_items = [{\"docid\":\"60dee1bc-a7ef-4be3-81a9-b81100dc2268\",\"root_ids\":[\"1002\"],\"roots\":{\"1002\":\"81c5d1ce-56a8-47ba-8533-e15bb777be75\"}}];\n",
       "    root.Bokeh.embed.embed_items_notebook(docs_json, render_items);\n",
       "  }\n",
       "  if (root.Bokeh !== undefined && root.Bokeh.Panel !== undefined && ( root['katex'] !== undefined)) {\n",
       "    embed_document(root);\n",
       "  } else {\n",
       "    var attempts = 0;\n",
       "    var timer = setInterval(function(root) {\n",
       "      if (root.Bokeh !== undefined && root.Bokeh.Panel !== undefined && (root['katex'] !== undefined)) {\n",
       "        clearInterval(timer);\n",
       "        embed_document(root);\n",
       "      } else if (document.readyState == \"complete\") {\n",
       "        attempts++;\n",
       "        if (attempts > 200) {\n",
       "          clearInterval(timer);\n",
       "          console.log(\"Bokeh: ERROR: Unable to run BokehJS code because BokehJS library is missing\");\n",
       "        }\n",
       "      }\n",
       "    }, 25, root)\n",
       "  }\n",
       "})(window);</script>"
      ],
      "text/plain": [
       "Row\n",
       "    [0] Column(margin=5, name='Stage', width=300)\n",
       "        [0] StaticText(value='<b>Stage</b>')\n",
       "        [1] FloatSlider(end=10, name='A', value=5)\n",
       "        [2] FloatSlider(end=10, name='B', value=5)\n",
       "    [1] ParamMethod(method)"
      ]
     },
     "execution_count": 3,
     "metadata": {
      "application/vnd.holoviews_exec.v0+json": {
       "id": "1002"
      }
     },
     "output_type": "execute_result"
    }
   ],
   "source": [
    "class Stage1(param.Parameterized):\n",
    "\n",
    "    a = param.Number(default=5, bounds=(0, 10))\n",
    "\n",
    "    b = param.Number(default=5, bounds=(0, 10))\n",
    "    \n",
    "    ready = param.Boolean(default=False, precedence=-1)\n",
    "\n",
    "    @param.output(('c', param.Number), ('d', param.Number))\n",
    "    def output(self):\n",
    "        return self.a * self.b, self.a ** self.b\n",
    "    \n",
    "    @param.depends('a', 'b')\n",
    "    def view(self):\n",
    "        c, d = self.output()\n",
    "        return pn.pane.LaTeX('${a} * {b} = {c}$\\n${a}^{{{b}}} = {d}$'.format(\n",
    "            a=self.a, b=self.b, c=c, d=d), style={'font-size': '2em'})\n",
    "\n",
    "    def panel(self):\n",
    "        return pn.Row(self.param, self.view)\n",
    "\n",
    "stage1 = Stage1()\n",
    "stage1.panel()"
   ]
  },
  {
   "cell_type": "markdown",
   "metadata": {},
   "source": [
    "To summarize, we have followed several conventions when setting up this stage of our ``Pipeline``:\n",
    "\n",
    "1. Declare a Parameterized class with some input parameters.\n",
    "2. Declare one or more methods decorated with the `param.output` decorator.\n",
    "3. Declare a ``panel`` method that returns a view of the object that the ``Pipeline`` can render.\n",
    "\n",
    "Now that the object has been instantiated we can also query it for its outputs:"
   ]
  },
  {
   "cell_type": "code",
   "execution_count": 4,
   "metadata": {
    "ExecuteTime": {
     "end_time": "2021-11-17T20:24:20.725445Z",
     "start_time": "2021-11-17T20:24:20.710509Z"
    }
   },
   "outputs": [
    {
     "data": {
      "text/plain": [
       "{'c': (<param.Number at 0x1fb09b7e108>,\n",
       "  <bound method Stage1.output of Stage1(a=5, b=5, name='Stage101765', ready=False)>,\n",
       "  0),\n",
       " 'd': (<param.Number at 0x1fb09b7e1c8>,\n",
       "  <bound method Stage1.output of Stage1(a=5, b=5, name='Stage101765', ready=False)>,\n",
       "  1)}"
      ]
     },
     "execution_count": 4,
     "metadata": {},
     "output_type": "execute_result"
    }
   ],
   "source": [
    "stage1.param.outputs()"
   ]
  },
  {
   "cell_type": "markdown",
   "metadata": {},
   "source": [
    "We can see that ``Stage1`` declares outputs named ``c`` and ``d`` of type ``param.Number`` that can be accessed by calling the ``output`` method on the object. Now let us add this stage to our ``Pipeline`` using the ``add_stage`` method:"
   ]
  },
  {
   "cell_type": "code",
   "execution_count": 5,
   "metadata": {
    "ExecuteTime": {
     "end_time": "2021-11-17T20:24:22.995105Z",
     "start_time": "2021-11-17T20:24:22.965232Z"
    }
   },
   "outputs": [],
   "source": [
    "pipeline.add_stage('Stage 1', stage1)"
   ]
  },
  {
   "cell_type": "markdown",
   "metadata": {},
   "source": [
    "The ``add_stage`` method takes the name of the stage as its first argument, the stage class or instance as the second parameter, and any additional keyword arguments if you want to override default behavior."
   ]
  },
  {
   "cell_type": "markdown",
   "metadata": {},
   "source": [
    "A ``Pipeline`` with only a single stage is not much of a ``Pipeline``, of course! So let's set up a second stage, consuming the output of the first. Recall that ``Stage1`` declares an  output named ``c``. If output ``c`` from ``Stage1`` should flow to ``Stage2``, the latter should declare a ``Parameter`` named ``c`` to consume the output of the first stage. ``Stage2`` does not have to consume all parameters, and here we will ignore output ``d``.\n",
    "\n",
    "In the second stage we will define parameters ``c`` and ``exp``. To make sure that we don't get a widget for ``c`` (as it will be set by the previous stage, not the user), we'll set its precedence to be negative (which tells Panel to skip creating a widget for it). In other respects this class is very similar to the first one; it declares both a ``view`` method that depends on the parameters of the class, and a ``panel`` method that returns a view of the object."
   ]
  },
  {
   "cell_type": "code",
   "execution_count": 6,
   "metadata": {
    "ExecuteTime": {
     "end_time": "2021-11-17T20:24:24.746909Z",
     "start_time": "2021-11-17T20:24:24.691146Z"
    }
   },
   "outputs": [
    {
     "data": {},
     "metadata": {},
     "output_type": "display_data"
    },
    {
     "data": {
      "application/vnd.holoviews_exec.v0+json": "",
      "text/html": [
       "<div id='1011'>\n",
       "\n",
       "\n",
       "\n",
       "\n",
       "\n",
       "  <div class=\"bk-root\" id=\"54d5f74b-a4fc-4854-bb69-e4ecc43eed2f\" data-root-id=\"1011\"></div>\n",
       "</div>\n",
       "<script type=\"application/javascript\">(function(root) {\n",
       "  function embed_document(root) {\n",
       "    var docs_json = {\"2462bc24-c4f0-44d1-af38-842a698e9cd7\":{\"defs\":[{\"extends\":null,\"module\":null,\"name\":\"ReactiveHTML1\",\"overrides\":[],\"properties\":[]},{\"extends\":null,\"module\":null,\"name\":\"FlexBox1\",\"overrides\":[],\"properties\":[{\"default\":\"flex-start\",\"kind\":null,\"name\":\"align_content\"},{\"default\":\"flex-start\",\"kind\":null,\"name\":\"align_items\"},{\"default\":\"row\",\"kind\":null,\"name\":\"flex_direction\"},{\"default\":\"wrap\",\"kind\":null,\"name\":\"flex_wrap\"},{\"default\":\"flex-start\",\"kind\":null,\"name\":\"justify_content\"}]},{\"extends\":null,\"module\":null,\"name\":\"TemplateActions1\",\"overrides\":[],\"properties\":[{\"default\":0,\"kind\":null,\"name\":\"open_modal\"},{\"default\":0,\"kind\":null,\"name\":\"close_modal\"}]},{\"extends\":null,\"module\":null,\"name\":\"MaterialTemplateActions1\",\"overrides\":[],\"properties\":[{\"default\":0,\"kind\":null,\"name\":\"open_modal\"},{\"default\":0,\"kind\":null,\"name\":\"close_modal\"}]}],\"roots\":{\"references\":[{\"attributes\":{\"margin\":[5,5,5,5],\"name\":\"LaTeX02004\",\"style\":{\"font-size\":\"2em\"},\"text\":\"${25}^{0.1}={1.380}$\"},\"id\":\"1017\",\"type\":\"panel.models.katex.KaTeX\"},{\"attributes\":{\"client_comm_id\":\"5634a6ad0f314b78bf7c52ba3e73a3b4\",\"comm_id\":\"a9952c296df44671beb8a3dcf0ebb169\",\"plot_id\":\"1011\"},\"id\":\"1018\",\"type\":\"panel.models.comm_manager.CommManager\"},{\"attributes\":{\"children\":[{\"id\":\"1013\"},{\"id\":\"1014\"},{\"id\":\"1015\"}],\"margin\":[5,5,5,5],\"min_width\":300,\"name\":\"Stage\",\"width\":300},\"id\":\"1012\",\"type\":\"Column\"},{\"attributes\":{\"margin\":[5,10,5,10],\"name\":\"\",\"text\":\"<b>Stage</b>\"},\"id\":\"1013\",\"type\":\"Div\"},{\"attributes\":{\"children\":[{\"id\":\"1012\"},{\"id\":\"1016\"}],\"margin\":[0,0,0,0],\"name\":\"Row02008\"},\"id\":\"1011\",\"type\":\"Row\"},{\"attributes\":{\"low\":0,\"margin\":[5,10,5,10],\"placeholder\":\"0\",\"step\":0.1,\"title\":\"C\",\"value\":25,\"value_throttled\":25},\"id\":\"1014\",\"type\":\"Spinner\"},{\"attributes\":{\"children\":[{\"id\":\"1017\"}],\"margin\":[0,0,0,0],\"name\":\"Row02003\"},\"id\":\"1016\",\"type\":\"Row\"},{\"attributes\":{\"end\":3,\"margin\":[5,10,5,10],\"start\":0,\"step\":0.1,\"title\":\"Exp\",\"value\":0.1},\"id\":\"1015\",\"type\":\"Slider\"}],\"root_ids\":[\"1011\",\"1018\"]},\"title\":\"Bokeh Application\",\"version\":\"2.3.3\"}};\n",
       "    var render_items = [{\"docid\":\"2462bc24-c4f0-44d1-af38-842a698e9cd7\",\"root_ids\":[\"1011\"],\"roots\":{\"1011\":\"54d5f74b-a4fc-4854-bb69-e4ecc43eed2f\"}}];\n",
       "    root.Bokeh.embed.embed_items_notebook(docs_json, render_items);\n",
       "  }\n",
       "  if (root.Bokeh !== undefined && root.Bokeh.Panel !== undefined && ( root['katex'] !== undefined)) {\n",
       "    embed_document(root);\n",
       "  } else {\n",
       "    var attempts = 0;\n",
       "    var timer = setInterval(function(root) {\n",
       "      if (root.Bokeh !== undefined && root.Bokeh.Panel !== undefined && (root['katex'] !== undefined)) {\n",
       "        clearInterval(timer);\n",
       "        embed_document(root);\n",
       "      } else if (document.readyState == \"complete\") {\n",
       "        attempts++;\n",
       "        if (attempts > 200) {\n",
       "          clearInterval(timer);\n",
       "          console.log(\"Bokeh: ERROR: Unable to run BokehJS code because BokehJS library is missing\");\n",
       "        }\n",
       "      }\n",
       "    }, 25, root)\n",
       "  }\n",
       "})(window);</script>"
      ],
      "text/plain": [
       "Row\n",
       "    [0] Column(margin=5, name='Stage', width=300)\n",
       "        [0] StaticText(value='<b>Stage</b>')\n",
       "        [1] FloatInput(name='C', start=0, value=25)\n",
       "        [2] FloatSlider(end=3, name='Exp', value=0.1)\n",
       "    [1] ParamMethod(method)"
      ]
     },
     "execution_count": 6,
     "metadata": {
      "application/vnd.holoviews_exec.v0+json": {
       "id": "1011"
      }
     },
     "output_type": "execute_result"
    }
   ],
   "source": [
    "class Stage2(param.Parameterized):\n",
    "    \n",
    "    c = param.Number(default=5, bounds=(0, None))\n",
    "\n",
    "    exp = param.Number(default=0.1, bounds=(0, 3))\n",
    "    \n",
    "    @param.depends('c', 'exp')\n",
    "    def view(self):\n",
    "        return pn.pane.LaTeX('${%s}^{%s}={%.3f}$' % (self.c, self.exp, self.c**self.exp),\n",
    "                             style={'font-size': '2em'})\n",
    "\n",
    "    def panel(self):\n",
    "        return pn.Row(self.param, self.view)\n",
    "    \n",
    "stage2 = Stage2(c=stage1.output()[0])\n",
    "stage2.panel()"
   ]
  },
  {
   "cell_type": "markdown",
   "metadata": {},
   "source": [
    "Now that we have declared the second stage of the pipeline, let us add it to the ``Pipeline`` object:"
   ]
  },
  {
   "cell_type": "code",
   "execution_count": 7,
   "metadata": {
    "ExecuteTime": {
     "end_time": "2021-11-17T20:24:35.517010Z",
     "start_time": "2021-11-17T20:24:35.470209Z"
    }
   },
   "outputs": [],
   "source": [
    "pipeline.add_stage('Stage 2', stage2)"
   ]
  },
  {
   "cell_type": "markdown",
   "metadata": {},
   "source": [
    "And that's it; we have now declared a two-stage pipeline, where the output ``c`` flows from the first stage into the second stage. To begin with we can `print` the pipeline to see the stages:"
   ]
  },
  {
   "cell_type": "code",
   "execution_count": 8,
   "metadata": {
    "ExecuteTime": {
     "end_time": "2021-11-17T20:24:37.035888Z",
     "start_time": "2021-11-17T20:24:37.028918Z"
    }
   },
   "outputs": [
    {
     "name": "stdout",
     "output_type": "stream",
     "text": [
      "Pipeline:\n",
      "    [0] Stage 1: Stage1()\n",
      "    [1] Stage 2: Stage2(c=25, exp=0.6)\n"
     ]
    }
   ],
   "source": [
    "print(pipeline)"
   ]
  },
  {
   "cell_type": "markdown",
   "metadata": {},
   "source": [
    "To display the `pipeline` we simply let it render itself:"
   ]
  },
  {
   "cell_type": "code",
   "execution_count": 9,
   "metadata": {
    "ExecuteTime": {
     "end_time": "2021-11-17T20:24:40.835366Z",
     "start_time": "2021-11-17T20:24:40.211356Z"
    }
   },
   "outputs": [
    {
     "data": {},
     "metadata": {},
     "output_type": "display_data"
    },
    {
     "data": {},
     "metadata": {},
     "output_type": "display_data"
    },
    {
     "data": {
      "application/vnd.holoviews_exec.v0+json": "",
      "text/html": [
       "<div id='1025'>\n",
       "\n",
       "\n",
       "\n",
       "\n",
       "\n",
       "  <div class=\"bk-root\" id=\"e5d8ca3b-3417-4fdb-a2cd-575d52cc728e\" data-root-id=\"1025\"></div>\n",
       "</div>\n",
       "<script type=\"application/javascript\">(function(root) {\n",
       "  function embed_document(root) {\n",
       "    var docs_json = {\"14000267-8a23-469a-a2a7-c631fab041f3\":{\"defs\":[{\"extends\":null,\"module\":null,\"name\":\"ReactiveHTML1\",\"overrides\":[],\"properties\":[]},{\"extends\":null,\"module\":null,\"name\":\"FlexBox1\",\"overrides\":[],\"properties\":[{\"default\":\"flex-start\",\"kind\":null,\"name\":\"align_content\"},{\"default\":\"flex-start\",\"kind\":null,\"name\":\"align_items\"},{\"default\":\"row\",\"kind\":null,\"name\":\"flex_direction\"},{\"default\":\"wrap\",\"kind\":null,\"name\":\"flex_wrap\"},{\"default\":\"flex-start\",\"kind\":null,\"name\":\"justify_content\"}]},{\"extends\":null,\"module\":null,\"name\":\"TemplateActions1\",\"overrides\":[],\"properties\":[{\"default\":0,\"kind\":null,\"name\":\"open_modal\"},{\"default\":0,\"kind\":null,\"name\":\"close_modal\"}]},{\"extends\":null,\"module\":null,\"name\":\"MaterialTemplateActions1\",\"overrides\":[],\"properties\":[{\"default\":0,\"kind\":null,\"name\":\"open_modal\"},{\"default\":0,\"kind\":null,\"name\":\"close_modal\"}]}],\"roots\":{\"references\":[{\"attributes\":{\"disabled\":true,\"icon\":null,\"label\":\"Previous\",\"margin\":[5,10,5,10],\"min_width\":125,\"subscribed_events\":[\"button_click\"],\"width\":125},\"id\":\"1261\",\"type\":\"Button\"},{\"attributes\":{\"line_alpha\":{\"value\":0.2},\"line_width\":{\"value\":2}},\"id\":\"1074\",\"type\":\"MultiLine\"},{\"attributes\":{},\"id\":\"1048\",\"type\":\"BasicTicker\"},{\"attributes\":{\"data\":{\"end\":{\"__ndarray__\":\"AQAAAA==\",\"dtype\":\"int32\",\"order\":\"little\",\"shape\":[1]},\"start\":{\"__ndarray__\":\"AAAAAA==\",\"dtype\":\"int32\",\"order\":\"little\",\"shape\":[1]}},\"selected\":{\"id\":\"1124\"},\"selection_policy\":{\"id\":\"1123\"}},\"id\":\"1064\",\"type\":\"ColumnDataSource\"},{\"attributes\":{\"below\":[{\"id\":\"1043\"}],\"center\":[{\"id\":\"1046\"},{\"id\":\"1050\"}],\"height\":80,\"left\":[{\"id\":\"1047\"}],\"margin\":[5,5,5,5],\"min_border_bottom\":10,\"min_border_left\":10,\"min_border_right\":10,\"min_border_top\":10,\"min_width\":400,\"outline_line_alpha\":0,\"renderers\":[{\"id\":\"1078\"},{\"id\":\"1097\"},{\"id\":\"1107\"}],\"sizing_mode\":\"stretch_width\",\"title\":{\"id\":\"1035\"},\"toolbar\":{\"id\":\"1052\"},\"toolbar_location\":null,\"width\":null,\"x_range\":{\"id\":\"1030\"},\"x_scale\":{\"id\":\"1039\"},\"y_range\":{\"id\":\"1031\"},\"y_scale\":{\"id\":\"1041\"}},\"id\":\"1034\",\"subtype\":\"Figure\",\"type\":\"Plot\"},{\"attributes\":{\"children\":[{\"id\":\"1266\"},{\"id\":\"1267\"},{\"id\":\"1268\"}],\"margin\":[5,5,5,5],\"min_width\":300,\"name\":\"Stage\",\"width\":300},\"id\":\"1265\",\"type\":\"Column\"},{\"attributes\":{\"source\":{\"id\":\"1064\"}},\"id\":\"1077\",\"type\":\"CDSView\"},{\"attributes\":{},\"id\":\"1123\",\"type\":\"UnionRenderers\"},{\"attributes\":{\"children\":[{\"id\":\"1028\"},{\"id\":\"1029\"}],\"margin\":[0,0,0,0],\"name\":\"Column02406\"},\"id\":\"1027\",\"type\":\"Column\"},{\"attributes\":{\"data\":{\"Stage\":[\"Stage 1\",\"Stage 2\"],\"x\":[0,1],\"y\":{\"__ndarray__\":\"AAAAAAAA4D8AAAAAAADgPw==\",\"dtype\":\"float64\",\"order\":\"little\",\"shape\":[2]}},\"selected\":{\"id\":\"1093\"},\"selection_policy\":{\"id\":\"1117\"}},\"id\":\"1092\",\"type\":\"ColumnDataSource\"},{\"attributes\":{\"line_width\":{\"value\":2}},\"id\":\"1073\",\"type\":\"MultiLine\"},{\"attributes\":{},\"id\":\"1124\",\"type\":\"Selection\"},{\"attributes\":{\"line_width\":{\"value\":2}},\"id\":\"1075\",\"type\":\"MultiLine\"},{\"attributes\":{\"axis\":{\"id\":\"1047\"},\"dimension\":1,\"grid_line_color\":null,\"ticker\":null},\"id\":\"1050\",\"type\":\"Grid\"},{\"attributes\":{\"data\":{\"Stage\":[\"Stage 1\",\"Stage 2\"],\"State\":[\"active\",\"next\"],\"x\":[0,1],\"y\":{\"__ndarray__\":\"AAAAAAAA4D8AAAAAAADgPw==\",\"dtype\":\"float64\",\"order\":\"little\",\"shape\":[2]}},\"selected\":{\"id\":\"1101\"},\"selection_policy\":{\"id\":\"1119\"}},\"id\":\"1100\",\"type\":\"ColumnDataSource\"},{\"attributes\":{\"data_source\":{\"id\":\"1064\"},\"glyph\":{\"id\":\"1073\"},\"hover_glyph\":{\"id\":\"1075\"},\"muted_glyph\":null,\"nonselection_glyph\":{\"id\":\"1074\"},\"view\":{\"id\":\"1077\"}},\"id\":\"1076\",\"type\":\"GlyphRenderer\"},{\"attributes\":{\"angle\":{\"value\":0},\"text\":{\"field\":\"Stage\"},\"text_align\":{\"value\":\"center\"},\"text_alpha\":{\"value\":1.0},\"text_baseline\":{\"value\":\"middle\"},\"text_color\":{\"value\":\"black\"},\"text_font_style\":{\"value\":\"normal\"},\"text_line_height\":{\"value\":1.2},\"x\":{\"field\":\"x\"},\"x_offset\":{\"value\":0},\"y\":{\"field\":\"y\",\"transform\":{\"id\":\"1091\"}},\"y_offset\":{\"value\":0}},\"id\":\"1099\",\"type\":\"Text\"},{\"attributes\":{\"callback\":null,\"renderers\":[{\"id\":\"1107\"}]},\"id\":\"1051\",\"type\":\"TapTool\"},{\"attributes\":{\"callback\":null,\"renderers\":[{\"id\":\"1078\"}],\"tags\":[\"hv_created\"],\"tooltips\":[[\"Stage\",\"@{index_hover}\"],[\"State\",\"@{State}\"]]},\"id\":\"1032\",\"type\":\"HoverTool\"},{\"attributes\":{\"icon\":null,\"label\":\"Next\",\"margin\":[5,10,5,10],\"min_width\":125,\"subscribed_events\":[\"button_click\"],\"width\":125},\"id\":\"1262\",\"type\":\"Button\"},{\"attributes\":{},\"id\":\"1122\",\"type\":\"Selection\"},{\"attributes\":{\"margin\":[5,5,5,5],\"name\":\"LaTeX02615\",\"style\":{\"font-size\":\"2em\"},\"text\":\"$5 * 5 = 25$\\n$5^{5} = 3125$\"},\"id\":\"1270\",\"type\":\"panel.models.katex.KaTeX\"},{\"attributes\":{\"fill_alpha\":{\"value\":0.2},\"fill_color\":{\"field\":\"node_color\",\"transform\":{\"id\":\"1062\"}},\"line_alpha\":{\"value\":0.2},\"size\":{\"value\":15}},\"id\":\"1067\",\"type\":\"Circle\"},{\"attributes\":{\"factors\":[\"inactive\",\"active\",\"error\",\"next\"],\"palette\":[\"white\",\"#5cb85c\",\"red\",\"yellow\"]},\"id\":\"1062\",\"type\":\"CategoricalColorMapper\"},{\"attributes\":{\"children\":[{\"id\":\"1261\"},{\"id\":\"1262\"}],\"margin\":[0,0,0,0],\"name\":\"Row02405\"},\"id\":\"1260\",\"type\":\"Row\"},{\"attributes\":{\"margin\":[5,10,5,10],\"name\":\"\",\"text\":\"<b>Stage</b>\"},\"id\":\"1266\",\"type\":\"Div\"},{\"attributes\":{\"args\":{\"selected\":{\"id\":\"1101\"}},\"code\":\"var data = {};\\ndata[\\\"index\\\"] = cb_obj[\\\"indices\\\"];\\n\\nfunction unique_events(events) {\\n  // Processes the event queue ignoring duplicate events\\n  // of the same type\\n  var unique = [];\\n  var unique_events = [];\\n  for (var i=0; i<events.length; i++) {\\n    var _tmpevent = events[i];\\n    event = _tmpevent[0];\\n    data = _tmpevent[1];\\n    if (unique_events.indexOf(event)===-1) {\\n      unique.unshift(data);\\n      unique_events.push(event);\\n      }\\n  }\\n  return unique;\\n}\\n\\nfunction process_events(comm_status) {\\n  // Iterates over event queue and sends events via Comm\\n  var events = unique_events(comm_status.event_buffer);\\n  for (var i=0; i<events.length; i++) {\\n    var data = events[i];\\n    var comm = window.PyViz.comms[data[\\\"comm_id\\\"]];\\n    comm.send(data);\\n  }\\n  comm_status.event_buffer = [];\\n}\\n\\nfunction on_msg(msg) {\\n  // Receives acknowledgement from Python, processing event\\n  // and unblocking Comm if event queue empty\\n  var metadata = msg.metadata;\\n  var comm_id = metadata.comm_id\\n  var comm_status = window.PyViz.comm_status[comm_id];\\n  if (comm_status.event_buffer.length) {\\n    process_events(comm_status);\\n    comm_status.blocked = true;\\n    comm_status.time = Date.now()+20;\\n  } else {\\n    comm_status.blocked = false;\\n  }\\n  comm_status.event_buffer = [];\\n  if ((metadata.msg_type == \\\"Ready\\\") && metadata.content) {\\n    console.log(\\\"Python callback returned following output:\\\", metadata.content);\\n  } else if (metadata.msg_type == \\\"Error\\\") {\\n    console.log(\\\"Python failed with the following traceback:\\\", metadata.traceback)\\n  }\\n}\\n\\n// Initialize Comm\\nif ((window.PyViz == undefined) || (window.PyViz.comm_manager == undefined)) { return }\\nvar comm = window.PyViz.comm_manager.get_client_comm(\\\"1025\\\", \\\"a96499971f174601bd987ef2fea12e20\\\", on_msg);\\nif (!comm) {\\n  return\\n}\\n\\n// Initialize event queue and timeouts for Comm\\nvar comm_status = window.PyViz.comm_status[\\\"a96499971f174601bd987ef2fea12e20\\\"];\\nif (comm_status === undefined) {\\n  comm_status = {event_buffer: [], blocked: false, time: Date.now()}\\n  window.PyViz.comm_status[\\\"a96499971f174601bd987ef2fea12e20\\\"] = comm_status\\n}\\n\\n// Add current event to queue and process queue if not blocked\\nvar event_name = cb_obj.event_name;\\nif (event_name === undefined) {\\n  // we are a widget not an event... fake a key.\\n  event_name = Object.keys(data).join(',');\\n}\\ndata['comm_id'] = \\\"a96499971f174601bd987ef2fea12e20\\\";\\nvar timeout = comm_status.time + 20000;\\nif ((comm_status.blocked && (Date.now() < timeout))) {\\n  comm_status.event_buffer.unshift([event_name, data]);\\n} else {\\n  comm_status.event_buffer.unshift([event_name, data]);\\n  setTimeout(function() { process_events(comm_status); }, 20);\\n  comm_status.blocked = true;\\n  comm_status.time = Date.now()+20;\\n}\\n\"},\"id\":\"1109\",\"type\":\"CustomJS\"},{\"attributes\":{\"fill_color\":{\"field\":\"node_color\",\"transform\":{\"id\":\"1062\"}},\"size\":{\"value\":15}},\"id\":\"1066\",\"type\":\"Circle\"},{\"attributes\":{\"source\":{\"id\":\"1100\"}},\"id\":\"1108\",\"type\":\"CDSView\"},{\"attributes\":{},\"id\":\"1087\",\"type\":\"NodesOnly\"},{\"attributes\":{},\"id\":\"1089\",\"type\":\"NodesAndLinkedEdges\"},{\"attributes\":{\"fill_alpha\":{\"value\":0},\"fill_color\":{\"value\":\"#30a2da\"},\"line_alpha\":{\"value\":0},\"size\":{\"value\":10},\"x\":{\"field\":\"x\"},\"y\":{\"field\":\"y\"}},\"id\":\"1104\",\"type\":\"Scatter\"},{\"attributes\":{},\"id\":\"1056\",\"type\":\"AllLabels\"},{\"attributes\":{},\"id\":\"1093\",\"type\":\"Selection\"},{\"attributes\":{\"css_classes\":[\"markdown\"],\"margin\":[0,0,0,5],\"name\":\"Markdown02402\",\"text\":\"&lt;h2&gt;Stage: Stage 1&lt;/h2&gt;\"},\"id\":\"1028\",\"type\":\"panel.models.markup.HTML\"},{\"attributes\":{\"data\":{\"State\":[\"active\",\"next\"],\"index\":{\"__ndarray__\":\"AAAAAAEAAAA=\",\"dtype\":\"int32\",\"order\":\"little\",\"shape\":[2]},\"index_hover\":[\"Stage 1\",\"Stage 2\"],\"node_color\":[\"active\",\"next\"]},\"selected\":{\"id\":\"1122\"},\"selection_policy\":{\"id\":\"1121\"}},\"id\":\"1063\",\"type\":\"ColumnDataSource\"},{\"attributes\":{\"client_comm_id\":\"dd9b1ecb2fe0417f923b464c4f0abd11\",\"comm_id\":\"40def1dcbc1144b096bfe499e6adcfee\",\"plot_id\":\"1025\"},\"id\":\"1316\",\"type\":\"panel.models.comm_manager.CommManager\"},{\"attributes\":{\"active_multi\":null,\"tools\":[{\"id\":\"1032\"},{\"id\":\"1033\"},{\"id\":\"1051\"}]},\"id\":\"1052\",\"type\":\"Toolbar\"},{\"attributes\":{},\"id\":\"1058\",\"type\":\"BasicTickFormatter\"},{\"attributes\":{\"children\":[{\"id\":\"1270\"}],\"margin\":[0,0,0,0],\"name\":\"Row02614\"},\"id\":\"1269\",\"type\":\"Row\"},{\"attributes\":{\"data_source\":{\"id\":\"1092\"},\"glyph\":{\"id\":\"1095\"},\"hover_glyph\":null,\"muted_glyph\":null,\"nonselection_glyph\":{\"id\":\"1096\"},\"selection_glyph\":{\"id\":\"1099\"},\"view\":{\"id\":\"1098\"}},\"id\":\"1097\",\"type\":\"GlyphRenderer\"},{\"attributes\":{\"end\":10,\"margin\":[5,10,5,10],\"start\":0,\"step\":0.1,\"title\":\"A\",\"value\":5},\"id\":\"1267\",\"type\":\"Slider\"},{\"attributes\":{\"js_property_callbacks\":{\"change:indices\":[{\"id\":\"1109\"}]}},\"id\":\"1101\",\"type\":\"Selection\"},{\"attributes\":{\"edge_renderer\":{\"id\":\"1076\"},\"inspection_policy\":{\"id\":\"1089\"},\"layout_provider\":{\"id\":\"1065\"},\"node_renderer\":{\"id\":\"1071\"},\"selection_policy\":{\"id\":\"1087\"}},\"id\":\"1078\",\"type\":\"GraphRenderer\"},{\"attributes\":{\"margin\":[0,0,0,0],\"min_width\":100,\"name\":\"Row02404\",\"width\":100},\"id\":\"1029\",\"type\":\"Row\"},{\"attributes\":{\"axis\":{\"id\":\"1043\"},\"grid_line_color\":null,\"ticker\":null},\"id\":\"1046\",\"type\":\"Grid\"},{\"attributes\":{\"fill_alpha\":{\"value\":0},\"fill_color\":{\"value\":\"indianred\"},\"line_alpha\":{\"value\":0},\"size\":{\"value\":10},\"x\":{\"field\":\"x\"},\"y\":{\"field\":\"y\"}},\"id\":\"1106\",\"type\":\"Scatter\"},{\"attributes\":{\"fill_color\":{\"field\":\"node_color\",\"transform\":{\"id\":\"1062\"}},\"size\":{\"value\":15}},\"id\":\"1068\",\"type\":\"Circle\"},{\"attributes\":{\"fill_alpha\":{\"value\":0},\"fill_color\":{\"value\":\"#30a2da\"},\"line_alpha\":{\"value\":0},\"size\":{\"value\":10},\"x\":{\"field\":\"x\"},\"y\":{\"field\":\"y\"}},\"id\":\"1103\",\"type\":\"Scatter\"},{\"attributes\":{\"text\":{\"field\":\"Stage\"},\"text_align\":{\"value\":\"center\"},\"text_baseline\":{\"value\":\"middle\"},\"text_color\":{\"value\":\"black\"},\"x\":{\"field\":\"x\"},\"y\":{\"field\":\"y\",\"transform\":{\"id\":\"1091\"}}},\"id\":\"1095\",\"type\":\"Text\"},{\"attributes\":{\"source\":{\"id\":\"1092\"}},\"id\":\"1098\",\"type\":\"CDSView\"},{\"attributes\":{},\"id\":\"1044\",\"type\":\"BasicTicker\"},{\"attributes\":{\"children\":[{\"id\":\"1265\"},{\"id\":\"1269\"}],\"margin\":[0,0,0,0],\"name\":\"Row02619\"},\"id\":\"1264\",\"type\":\"Row\"},{\"attributes\":{\"children\":[{\"id\":\"1264\"}],\"margin\":[0,0,0,0],\"name\":\"Row02597\"},\"id\":\"1263\",\"type\":\"Row\"},{\"attributes\":{\"graph_layout\":{\"0\":[0,0.5],\"1\":[1,0.5]}},\"id\":\"1065\",\"type\":\"StaticLayoutProvider\"},{\"attributes\":{\"source\":{\"id\":\"1063\"}},\"id\":\"1072\",\"type\":\"CDSView\"},{\"attributes\":{\"text_color\":\"black\",\"text_font_size\":\"12pt\"},\"id\":\"1035\",\"type\":\"Title\"},{\"attributes\":{\"range\":null,\"value\":-0.3},\"id\":\"1091\",\"type\":\"Dodge\"},{\"attributes\":{\"data_source\":{\"id\":\"1100\"},\"glyph\":{\"id\":\"1103\"},\"hover_glyph\":{\"id\":\"1106\"},\"muted_glyph\":null,\"nonselection_glyph\":{\"id\":\"1104\"},\"selection_glyph\":{\"id\":\"1105\"},\"view\":{\"id\":\"1108\"}},\"id\":\"1107\",\"type\":\"GlyphRenderer\"},{\"attributes\":{\"size\":{\"value\":15}},\"id\":\"1069\",\"type\":\"Circle\"},{\"attributes\":{\"text\":{\"field\":\"Stage\"},\"text_align\":{\"value\":\"center\"},\"text_alpha\":{\"value\":0.1},\"text_baseline\":{\"value\":\"middle\"},\"text_color\":{\"value\":\"black\"},\"x\":{\"field\":\"x\"},\"y\":{\"field\":\"y\",\"transform\":{\"id\":\"1091\"}}},\"id\":\"1096\",\"type\":\"Text\"},{\"attributes\":{\"end\":1.25,\"reset_end\":1.25,\"reset_start\":-0.25,\"start\":-0.25,\"tags\":[[[\"x\",\"x\",null]]]},\"id\":\"1030\",\"type\":\"Range1d\"},{\"attributes\":{\"fill_color\":{\"field\":\"node_color\",\"transform\":{\"id\":\"1062\"}},\"size\":{\"value\":15}},\"id\":\"1070\",\"type\":\"Circle\"},{\"attributes\":{\"reset_end\":1,\"reset_start\":0,\"tags\":[[[\"y\",\"y\",null]]]},\"id\":\"1031\",\"type\":\"Range1d\"},{\"attributes\":{},\"id\":\"1119\",\"type\":\"UnionRenderers\"},{\"attributes\":{},\"id\":\"1059\",\"type\":\"AllLabels\"},{\"attributes\":{},\"id\":\"1041\",\"type\":\"LinearScale\"},{\"attributes\":{},\"id\":\"1061\",\"type\":\"BasicTickFormatter\"},{\"attributes\":{\"end\":10,\"margin\":[5,10,5,10],\"start\":0,\"step\":0.1,\"title\":\"B\",\"value\":5},\"id\":\"1268\",\"type\":\"Slider\"},{\"attributes\":{},\"id\":\"1117\",\"type\":\"UnionRenderers\"},{\"attributes\":{\"callback\":null,\"renderers\":[{\"id\":\"1107\"}],\"tags\":[\"hv_created\"],\"tooltips\":[[\"Stage\",\"@{Stage}\"],[\"State\",\"@{State}\"]]},\"id\":\"1033\",\"type\":\"HoverTool\"},{\"attributes\":{},\"id\":\"1121\",\"type\":\"UnionRenderers\"},{\"attributes\":{\"children\":[{\"id\":\"1027\"},{\"id\":\"1034\"},{\"id\":\"1260\"}],\"margin\":[0,0,0,0],\"name\":\"Row02407\",\"sizing_mode\":\"stretch_width\"},\"id\":\"1026\",\"type\":\"Row\"},{\"attributes\":{},\"id\":\"1039\",\"type\":\"LinearScale\"},{\"attributes\":{\"axis_label\":\"y\",\"formatter\":{\"id\":\"1061\"},\"major_label_policy\":{\"id\":\"1059\"},\"ticker\":{\"id\":\"1048\"},\"visible\":false},\"id\":\"1047\",\"type\":\"LinearAxis\"},{\"attributes\":{\"children\":[{\"id\":\"1026\"},{\"id\":\"1263\"}],\"margin\":[0,0,0,0],\"name\":\"Column02598\",\"sizing_mode\":\"stretch_width\"},\"id\":\"1025\",\"type\":\"Column\"},{\"attributes\":{\"axis_label\":\"x\",\"formatter\":{\"id\":\"1058\"},\"major_label_policy\":{\"id\":\"1056\"},\"ticker\":{\"id\":\"1044\"},\"visible\":false},\"id\":\"1043\",\"type\":\"LinearAxis\"},{\"attributes\":{\"data_source\":{\"id\":\"1063\"},\"glyph\":{\"id\":\"1066\"},\"hover_glyph\":{\"id\":\"1069\"},\"muted_glyph\":{\"id\":\"1070\"},\"nonselection_glyph\":{\"id\":\"1067\"},\"selection_glyph\":{\"id\":\"1068\"},\"view\":{\"id\":\"1072\"}},\"id\":\"1071\",\"type\":\"GlyphRenderer\"},{\"attributes\":{\"fill_alpha\":{\"value\":0},\"fill_color\":{\"value\":\"limegreen\"},\"line_alpha\":{\"value\":0},\"size\":{\"value\":10},\"x\":{\"field\":\"x\"},\"y\":{\"field\":\"y\"}},\"id\":\"1105\",\"type\":\"Scatter\"}],\"root_ids\":[\"1025\",\"1316\"]},\"title\":\"Bokeh Application\",\"version\":\"2.3.3\"}};\n",
       "    var render_items = [{\"docid\":\"14000267-8a23-469a-a2a7-c631fab041f3\",\"root_ids\":[\"1025\"],\"roots\":{\"1025\":\"e5d8ca3b-3417-4fdb-a2cd-575d52cc728e\"}}];\n",
       "    root.Bokeh.embed.embed_items_notebook(docs_json, render_items);\n",
       "  }\n",
       "  if (root.Bokeh !== undefined && root.Bokeh.Panel !== undefined && ( root['katex'] !== undefined)) {\n",
       "    embed_document(root);\n",
       "  } else {\n",
       "    var attempts = 0;\n",
       "    var timer = setInterval(function(root) {\n",
       "      if (root.Bokeh !== undefined && root.Bokeh.Panel !== undefined && (root['katex'] !== undefined)) {\n",
       "        clearInterval(timer);\n",
       "        embed_document(root);\n",
       "      } else if (document.readyState == \"complete\") {\n",
       "        attempts++;\n",
       "        if (attempts > 200) {\n",
       "          clearInterval(timer);\n",
       "          console.log(\"Bokeh: ERROR: Unable to run BokehJS code because BokehJS library is missing\");\n",
       "        }\n",
       "      }\n",
       "    }, 25, root)\n",
       "  }\n",
       "})(window);</script>"
      ],
      "text/plain": [
       "Pipeline:\n",
       "    [0] Stage 1: Stage1()\n",
       "    [1] Stage 2: Stage2()"
      ]
     },
     "execution_count": 9,
     "metadata": {
      "application/vnd.holoviews_exec.v0+json": {
       "id": "1025"
      }
     },
     "output_type": "execute_result"
    }
   ],
   "source": [
    "pipeline = pn.pipeline.Pipeline(debug=True)\n",
    "pipeline.add_stage('Stage 1', Stage1())\n",
    "pipeline.add_stage('Stage 2', Stage2)\n",
    "\n",
    "pipeline"
   ]
  },
  {
   "cell_type": "markdown",
   "metadata": {},
   "source": [
    "As you can see the ``Pipeline`` renders a little diagram displaying the available stages in the workflow along with previous and next buttons to move between each stage. This allows setting up complex workflows with multiple stages, where each component is a self-contained unit, with minimal declarations about stage outputs (using the ``param.output`` decorator) and how to render the stage (by declaring a ``panel`` method).  Note also when progressing to Stage 2, the `c` parameter widget is not rendered because its value has been provided by the previous stage. \n",
    "\n",
    "Above we created the ``Pipeline`` as we went along, which makes some sense in a notebook to allow debugging and development of each stage.  When deploying the Pipeline as a server app or when there's no reason to instantiate each stage separately; instead we can declare the stages as part of the constructor:"
   ]
  },
  {
   "cell_type": "code",
   "execution_count": 11,
   "metadata": {
    "ExecuteTime": {
     "end_time": "2021-11-17T21:08:58.955394Z",
     "start_time": "2021-11-17T21:08:58.583243Z"
    }
   },
   "outputs": [
    {
     "data": {},
     "metadata": {},
     "output_type": "display_data"
    },
    {
     "data": {},
     "metadata": {},
     "output_type": "display_data"
    },
    {
     "data": {
      "application/vnd.holoviews_exec.v0+json": "",
      "text/html": [
       "<div id='3381'>\n",
       "\n",
       "\n",
       "\n",
       "\n",
       "\n",
       "  <div class=\"bk-root\" id=\"a1ec2c7e-7e74-4a6a-98f6-573e85ea4ef2\" data-root-id=\"3381\"></div>\n",
       "</div>\n",
       "<script type=\"application/javascript\">(function(root) {\n",
       "  function embed_document(root) {\n",
       "    var docs_json = {\"6b042159-d0b6-4bda-bf00-80baf7e70ca7\":{\"defs\":[{\"extends\":null,\"module\":null,\"name\":\"ReactiveHTML1\",\"overrides\":[],\"properties\":[]},{\"extends\":null,\"module\":null,\"name\":\"FlexBox1\",\"overrides\":[],\"properties\":[{\"default\":\"flex-start\",\"kind\":null,\"name\":\"align_content\"},{\"default\":\"flex-start\",\"kind\":null,\"name\":\"align_items\"},{\"default\":\"row\",\"kind\":null,\"name\":\"flex_direction\"},{\"default\":\"wrap\",\"kind\":null,\"name\":\"flex_wrap\"},{\"default\":\"flex-start\",\"kind\":null,\"name\":\"justify_content\"}]},{\"extends\":null,\"module\":null,\"name\":\"TemplateActions1\",\"overrides\":[],\"properties\":[{\"default\":0,\"kind\":null,\"name\":\"open_modal\"},{\"default\":0,\"kind\":null,\"name\":\"close_modal\"}]},{\"extends\":null,\"module\":null,\"name\":\"MaterialTemplateActions1\",\"overrides\":[],\"properties\":[{\"default\":0,\"kind\":null,\"name\":\"open_modal\"},{\"default\":0,\"kind\":null,\"name\":\"close_modal\"}]}],\"roots\":{\"references\":[{\"attributes\":{\"fill_alpha\":{\"value\":0},\"fill_color\":{\"value\":\"#30a2da\"},\"line_alpha\":{\"value\":0},\"size\":{\"value\":10},\"x\":{\"field\":\"x\"},\"y\":{\"field\":\"y\"}},\"id\":\"3460\",\"type\":\"Scatter\"},{\"attributes\":{},\"id\":\"3478\",\"type\":\"Selection\"},{\"attributes\":{\"children\":[{\"id\":\"3620\"}],\"margin\":[0,0,0,0],\"name\":\"Row09238\"},\"id\":\"3619\",\"type\":\"Row\"},{\"attributes\":{\"children\":[{\"id\":\"3622\"},{\"id\":\"3623\"},{\"id\":\"3624\"}],\"margin\":[5,5,5,5],\"min_width\":300,\"name\":\"Stage\",\"width\":300},\"id\":\"3621\",\"type\":\"Column\"},{\"attributes\":{},\"id\":\"3480\",\"type\":\"Selection\"},{\"attributes\":{\"callback\":null,\"renderers\":[{\"id\":\"3434\"}],\"tags\":[\"hv_created\"],\"tooltips\":[[\"Stage\",\"@{index_hover}\"],[\"State\",\"@{State}\"]]},\"id\":\"3388\",\"type\":\"HoverTool\"},{\"attributes\":{},\"id\":\"3397\",\"type\":\"LinearScale\"},{\"attributes\":{\"fill_alpha\":{\"value\":0.2},\"fill_color\":{\"field\":\"node_color\",\"transform\":{\"id\":\"3418\"}},\"line_alpha\":{\"value\":0.2},\"size\":{\"value\":15}},\"id\":\"3423\",\"type\":\"Circle\"},{\"attributes\":{\"line_width\":{\"value\":2}},\"id\":\"3429\",\"type\":\"MultiLine\"},{\"attributes\":{\"data_source\":{\"id\":\"3456\"},\"glyph\":{\"id\":\"3459\"},\"hover_glyph\":{\"id\":\"3462\"},\"muted_glyph\":null,\"nonselection_glyph\":{\"id\":\"3460\"},\"selection_glyph\":{\"id\":\"3461\"},\"view\":{\"id\":\"3464\"}},\"id\":\"3463\",\"type\":\"GlyphRenderer\"},{\"attributes\":{\"children\":[{\"id\":\"3621\"},{\"id\":\"3625\"}],\"margin\":[0,0,0,0],\"name\":\"Row09260\"},\"id\":\"3620\",\"type\":\"Row\"},{\"attributes\":{},\"id\":\"3443\",\"type\":\"NodesOnly\"},{\"attributes\":{\"source\":{\"id\":\"3456\"}},\"id\":\"3464\",\"type\":\"CDSView\"},{\"attributes\":{\"line_alpha\":{\"value\":0.2},\"line_width\":{\"value\":2}},\"id\":\"3430\",\"type\":\"MultiLine\"},{\"attributes\":{\"data\":{\"Stage\":[\"Stage 1\",\"Stage 2\"],\"State\":[\"active\",\"next\"],\"x\":[0,1],\"y\":{\"__ndarray__\":\"AAAAAAAA4D8AAAAAAADgPw==\",\"dtype\":\"float64\",\"order\":\"little\",\"shape\":[2]}},\"selected\":{\"id\":\"3457\"},\"selection_policy\":{\"id\":\"3475\"}},\"id\":\"3456\",\"type\":\"ColumnDataSource\"},{\"attributes\":{\"fill_color\":{\"field\":\"node_color\",\"transform\":{\"id\":\"3418\"}},\"size\":{\"value\":15}},\"id\":\"3426\",\"type\":\"Circle\"},{\"attributes\":{\"args\":{\"selected\":{\"id\":\"3457\"}},\"code\":\"var data = {};\\ndata[\\\"index\\\"] = cb_obj[\\\"indices\\\"];\\n\\nfunction unique_events(events) {\\n  // Processes the event queue ignoring duplicate events\\n  // of the same type\\n  var unique = [];\\n  var unique_events = [];\\n  for (var i=0; i<events.length; i++) {\\n    var _tmpevent = events[i];\\n    event = _tmpevent[0];\\n    data = _tmpevent[1];\\n    if (unique_events.indexOf(event)===-1) {\\n      unique.unshift(data);\\n      unique_events.push(event);\\n      }\\n  }\\n  return unique;\\n}\\n\\nfunction process_events(comm_status) {\\n  // Iterates over event queue and sends events via Comm\\n  var events = unique_events(comm_status.event_buffer);\\n  for (var i=0; i<events.length; i++) {\\n    var data = events[i];\\n    var comm = window.PyViz.comms[data[\\\"comm_id\\\"]];\\n    comm.send(data);\\n  }\\n  comm_status.event_buffer = [];\\n}\\n\\nfunction on_msg(msg) {\\n  // Receives acknowledgement from Python, processing event\\n  // and unblocking Comm if event queue empty\\n  var metadata = msg.metadata;\\n  var comm_id = metadata.comm_id\\n  var comm_status = window.PyViz.comm_status[comm_id];\\n  if (comm_status.event_buffer.length) {\\n    process_events(comm_status);\\n    comm_status.blocked = true;\\n    comm_status.time = Date.now()+20;\\n  } else {\\n    comm_status.blocked = false;\\n  }\\n  comm_status.event_buffer = [];\\n  if ((metadata.msg_type == \\\"Ready\\\") && metadata.content) {\\n    console.log(\\\"Python callback returned following output:\\\", metadata.content);\\n  } else if (metadata.msg_type == \\\"Error\\\") {\\n    console.log(\\\"Python failed with the following traceback:\\\", metadata.traceback)\\n  }\\n}\\n\\n// Initialize Comm\\nif ((window.PyViz == undefined) || (window.PyViz.comm_manager == undefined)) { return }\\nvar comm = window.PyViz.comm_manager.get_client_comm(\\\"3381\\\", \\\"fc0a46a8a90a440aae231e6aeadc2cf2\\\", on_msg);\\nif (!comm) {\\n  return\\n}\\n\\n// Initialize event queue and timeouts for Comm\\nvar comm_status = window.PyViz.comm_status[\\\"fc0a46a8a90a440aae231e6aeadc2cf2\\\"];\\nif (comm_status === undefined) {\\n  comm_status = {event_buffer: [], blocked: false, time: Date.now()}\\n  window.PyViz.comm_status[\\\"fc0a46a8a90a440aae231e6aeadc2cf2\\\"] = comm_status\\n}\\n\\n// Add current event to queue and process queue if not blocked\\nvar event_name = cb_obj.event_name;\\nif (event_name === undefined) {\\n  // we are a widget not an event... fake a key.\\n  event_name = Object.keys(data).join(',');\\n}\\ndata['comm_id'] = \\\"fc0a46a8a90a440aae231e6aeadc2cf2\\\";\\nvar timeout = comm_status.time + 20000;\\nif ((comm_status.blocked && (Date.now() < timeout))) {\\n  comm_status.event_buffer.unshift([event_name, data]);\\n} else {\\n  comm_status.event_buffer.unshift([event_name, data]);\\n  setTimeout(function() { process_events(comm_status); }, 20);\\n  comm_status.blocked = true;\\n  comm_status.time = Date.now()+20;\\n}\\n\"},\"id\":\"3465\",\"type\":\"CustomJS\"},{\"attributes\":{\"callback\":null,\"renderers\":[{\"id\":\"3463\"}]},\"id\":\"3407\",\"type\":\"TapTool\"},{\"attributes\":{\"source\":{\"id\":\"3420\"}},\"id\":\"3433\",\"type\":\"CDSView\"},{\"attributes\":{\"children\":[{\"id\":\"3383\"},{\"id\":\"3390\"},{\"id\":\"3616\"}],\"margin\":[0,0,0,0],\"name\":\"Row09048\",\"sizing_mode\":\"stretch_width\"},\"id\":\"3382\",\"type\":\"Row\"},{\"attributes\":{\"data\":{\"end\":{\"__ndarray__\":\"AQAAAA==\",\"dtype\":\"int32\",\"order\":\"little\",\"shape\":[1]},\"start\":{\"__ndarray__\":\"AAAAAA==\",\"dtype\":\"int32\",\"order\":\"little\",\"shape\":[1]}},\"selected\":{\"id\":\"3480\"},\"selection_policy\":{\"id\":\"3479\"}},\"id\":\"3420\",\"type\":\"ColumnDataSource\"},{\"attributes\":{\"source\":{\"id\":\"3419\"}},\"id\":\"3428\",\"type\":\"CDSView\"},{\"attributes\":{},\"id\":\"3412\",\"type\":\"AllLabels\"},{\"attributes\":{\"fill_alpha\":{\"value\":0},\"fill_color\":{\"value\":\"#30a2da\"},\"line_alpha\":{\"value\":0},\"size\":{\"value\":10},\"x\":{\"field\":\"x\"},\"y\":{\"field\":\"y\"}},\"id\":\"3459\",\"type\":\"Scatter\"},{\"attributes\":{\"children\":[{\"id\":\"3382\"},{\"id\":\"3619\"}],\"margin\":[0,0,0,0],\"name\":\"Column09239\",\"sizing_mode\":\"stretch_width\"},\"id\":\"3381\",\"type\":\"Column\"},{\"attributes\":{\"edge_renderer\":{\"id\":\"3432\"},\"inspection_policy\":{\"id\":\"3445\"},\"layout_provider\":{\"id\":\"3421\"},\"node_renderer\":{\"id\":\"3427\"},\"selection_policy\":{\"id\":\"3443\"}},\"id\":\"3434\",\"type\":\"GraphRenderer\"},{\"attributes\":{},\"id\":\"3473\",\"type\":\"UnionRenderers\"},{\"attributes\":{},\"id\":\"3414\",\"type\":\"BasicTickFormatter\"},{\"attributes\":{\"client_comm_id\":\"0648d05d14b64c80a5b51ed6ab7f1ef3\",\"comm_id\":\"d82512e9c595425cb21486aee57128c8\",\"plot_id\":\"3381\"},\"id\":\"3672\",\"type\":\"panel.models.comm_manager.CommManager\"},{\"attributes\":{},\"id\":\"3404\",\"type\":\"BasicTicker\"},{\"attributes\":{\"margin\":[5,10,5,10],\"name\":\"\",\"text\":\"<b>Stage</b>\"},\"id\":\"3622\",\"type\":\"Div\"},{\"attributes\":{},\"id\":\"3477\",\"type\":\"UnionRenderers\"},{\"attributes\":{\"data_source\":{\"id\":\"3419\"},\"glyph\":{\"id\":\"3422\"},\"hover_glyph\":{\"id\":\"3425\"},\"muted_glyph\":{\"id\":\"3426\"},\"nonselection_glyph\":{\"id\":\"3423\"},\"selection_glyph\":{\"id\":\"3424\"},\"view\":{\"id\":\"3428\"}},\"id\":\"3427\",\"type\":\"GlyphRenderer\"},{\"attributes\":{\"children\":[{\"id\":\"3626\"}],\"margin\":[0,0,0,0],\"name\":\"Row09255\"},\"id\":\"3625\",\"type\":\"Row\"},{\"attributes\":{\"active_multi\":null,\"tools\":[{\"id\":\"3388\"},{\"id\":\"3389\"},{\"id\":\"3407\"}]},\"id\":\"3408\",\"type\":\"Toolbar\"},{\"attributes\":{},\"id\":\"3475\",\"type\":\"UnionRenderers\"},{\"attributes\":{\"axis\":{\"id\":\"3403\"},\"dimension\":1,\"grid_line_color\":null,\"ticker\":null},\"id\":\"3406\",\"type\":\"Grid\"},{\"attributes\":{\"factors\":[\"inactive\",\"active\",\"error\",\"next\"],\"palette\":[\"white\",\"#5cb85c\",\"red\",\"yellow\"]},\"id\":\"3418\",\"type\":\"CategoricalColorMapper\"},{\"attributes\":{\"fill_color\":{\"field\":\"node_color\",\"transform\":{\"id\":\"3418\"}},\"size\":{\"value\":15}},\"id\":\"3422\",\"type\":\"Circle\"},{\"attributes\":{\"margin\":[0,0,0,0],\"min_width\":100,\"name\":\"Row09045\",\"width\":100},\"id\":\"3385\",\"type\":\"Row\"},{\"attributes\":{\"below\":[{\"id\":\"3399\"}],\"center\":[{\"id\":\"3402\"},{\"id\":\"3406\"}],\"height\":80,\"left\":[{\"id\":\"3403\"}],\"margin\":[5,5,5,5],\"min_border_bottom\":10,\"min_border_left\":10,\"min_border_right\":10,\"min_border_top\":10,\"min_width\":400,\"outline_line_alpha\":0,\"renderers\":[{\"id\":\"3434\"},{\"id\":\"3453\"},{\"id\":\"3463\"}],\"sizing_mode\":\"stretch_width\",\"title\":{\"id\":\"3391\"},\"toolbar\":{\"id\":\"3408\"},\"toolbar_location\":null,\"width\":null,\"x_range\":{\"id\":\"3386\"},\"x_scale\":{\"id\":\"3395\"},\"y_range\":{\"id\":\"3387\"},\"y_scale\":{\"id\":\"3397\"}},\"id\":\"3390\",\"subtype\":\"Figure\",\"type\":\"Plot\"},{\"attributes\":{\"children\":[{\"id\":\"3384\"},{\"id\":\"3385\"}],\"margin\":[0,0,0,0],\"name\":\"Column09047\"},\"id\":\"3383\",\"type\":\"Column\"},{\"attributes\":{\"line_width\":{\"value\":2}},\"id\":\"3431\",\"type\":\"MultiLine\"},{\"attributes\":{\"graph_layout\":{\"0\":[0,0.5],\"1\":[1,0.5]}},\"id\":\"3421\",\"type\":\"StaticLayoutProvider\"},{\"attributes\":{\"angle\":{\"value\":0},\"text\":{\"field\":\"Stage\"},\"text_align\":{\"value\":\"center\"},\"text_alpha\":{\"value\":1.0},\"text_baseline\":{\"value\":\"middle\"},\"text_color\":{\"value\":\"black\"},\"text_font_style\":{\"value\":\"normal\"},\"text_line_height\":{\"value\":1.2},\"x\":{\"field\":\"x\"},\"x_offset\":{\"value\":0},\"y\":{\"field\":\"y\",\"transform\":{\"id\":\"3447\"}},\"y_offset\":{\"value\":0}},\"id\":\"3455\",\"type\":\"Text\"},{\"attributes\":{},\"id\":\"3479\",\"type\":\"UnionRenderers\"},{\"attributes\":{\"reset_end\":1,\"reset_start\":0,\"tags\":[[[\"y\",\"y\",null]]]},\"id\":\"3387\",\"type\":\"Range1d\"},{\"attributes\":{\"end\":10,\"margin\":[5,10,5,10],\"start\":0,\"step\":0.1,\"title\":\"A\",\"value\":5},\"id\":\"3623\",\"type\":\"Slider\"},{\"attributes\":{},\"id\":\"3415\",\"type\":\"AllLabels\"},{\"attributes\":{\"axis_label\":\"y\",\"formatter\":{\"id\":\"3417\"},\"major_label_policy\":{\"id\":\"3415\"},\"ticker\":{\"id\":\"3404\"},\"visible\":false},\"id\":\"3403\",\"type\":\"LinearAxis\"},{\"attributes\":{\"text\":{\"field\":\"Stage\"},\"text_align\":{\"value\":\"center\"},\"text_baseline\":{\"value\":\"middle\"},\"text_color\":{\"value\":\"black\"},\"x\":{\"field\":\"x\"},\"y\":{\"field\":\"y\",\"transform\":{\"id\":\"3447\"}}},\"id\":\"3451\",\"type\":\"Text\"},{\"attributes\":{\"fill_alpha\":{\"value\":0},\"fill_color\":{\"value\":\"indianred\"},\"line_alpha\":{\"value\":0},\"size\":{\"value\":10},\"x\":{\"field\":\"x\"},\"y\":{\"field\":\"y\"}},\"id\":\"3462\",\"type\":\"Scatter\"},{\"attributes\":{\"children\":[{\"id\":\"3617\"},{\"id\":\"3618\"}],\"margin\":[0,0,0,0],\"name\":\"Row09046\"},\"id\":\"3616\",\"type\":\"Row\"},{\"attributes\":{\"range\":null,\"value\":-0.3},\"id\":\"3447\",\"type\":\"Dodge\"},{\"attributes\":{\"css_classes\":[\"markdown\"],\"margin\":[0,0,0,5],\"name\":\"Markdown09043\",\"text\":\"&lt;h2&gt;Stage: Stage 1&lt;/h2&gt;\"},\"id\":\"3384\",\"type\":\"panel.models.markup.HTML\"},{\"attributes\":{\"axis_label\":\"x\",\"formatter\":{\"id\":\"3414\"},\"major_label_policy\":{\"id\":\"3412\"},\"ticker\":{\"id\":\"3400\"},\"visible\":false},\"id\":\"3399\",\"type\":\"LinearAxis\"},{\"attributes\":{\"end\":10,\"margin\":[5,10,5,10],\"start\":0,\"step\":0.1,\"title\":\"B\",\"value\":5},\"id\":\"3624\",\"type\":\"Slider\"},{\"attributes\":{\"data_source\":{\"id\":\"3420\"},\"glyph\":{\"id\":\"3429\"},\"hover_glyph\":{\"id\":\"3431\"},\"muted_glyph\":null,\"nonselection_glyph\":{\"id\":\"3430\"},\"view\":{\"id\":\"3433\"}},\"id\":\"3432\",\"type\":\"GlyphRenderer\"},{\"attributes\":{\"size\":{\"value\":15}},\"id\":\"3425\",\"type\":\"Circle\"},{\"attributes\":{},\"id\":\"3449\",\"type\":\"Selection\"},{\"attributes\":{\"source\":{\"id\":\"3448\"}},\"id\":\"3454\",\"type\":\"CDSView\"},{\"attributes\":{\"disabled\":true,\"icon\":null,\"label\":\"Previous\",\"margin\":[5,10,5,10],\"min_width\":125,\"subscribed_events\":[\"button_click\"],\"width\":125},\"id\":\"3617\",\"type\":\"Button\"},{\"attributes\":{\"data_source\":{\"id\":\"3448\"},\"glyph\":{\"id\":\"3451\"},\"hover_glyph\":null,\"muted_glyph\":null,\"nonselection_glyph\":{\"id\":\"3452\"},\"selection_glyph\":{\"id\":\"3455\"},\"view\":{\"id\":\"3454\"}},\"id\":\"3453\",\"type\":\"GlyphRenderer\"},{\"attributes\":{\"callback\":null,\"renderers\":[{\"id\":\"3463\"}],\"tags\":[\"hv_created\"],\"tooltips\":[[\"Stage\",\"@{Stage}\"],[\"State\",\"@{State}\"]]},\"id\":\"3389\",\"type\":\"HoverTool\"},{\"attributes\":{\"text_color\":\"black\",\"text_font_size\":\"12pt\"},\"id\":\"3391\",\"type\":\"Title\"},{\"attributes\":{\"end\":1.25,\"reset_end\":1.25,\"reset_start\":-0.25,\"start\":-0.25,\"tags\":[[[\"x\",\"x\",null]]]},\"id\":\"3386\",\"type\":\"Range1d\"},{\"attributes\":{\"text\":{\"field\":\"Stage\"},\"text_align\":{\"value\":\"center\"},\"text_alpha\":{\"value\":0.1},\"text_baseline\":{\"value\":\"middle\"},\"text_color\":{\"value\":\"black\"},\"x\":{\"field\":\"x\"},\"y\":{\"field\":\"y\",\"transform\":{\"id\":\"3447\"}}},\"id\":\"3452\",\"type\":\"Text\"},{\"attributes\":{\"margin\":[5,5,5,5],\"name\":\"LaTeX09256\",\"style\":{\"font-size\":\"2em\"},\"text\":\"$5 * 5 = 25$\\n$5^{5} = 3125$\"},\"id\":\"3626\",\"type\":\"panel.models.katex.KaTeX\"},{\"attributes\":{\"fill_alpha\":{\"value\":0},\"fill_color\":{\"value\":\"limegreen\"},\"line_alpha\":{\"value\":0},\"size\":{\"value\":10},\"x\":{\"field\":\"x\"},\"y\":{\"field\":\"y\"}},\"id\":\"3461\",\"type\":\"Scatter\"},{\"attributes\":{},\"id\":\"3445\",\"type\":\"NodesAndLinkedEdges\"},{\"attributes\":{},\"id\":\"3395\",\"type\":\"LinearScale\"},{\"attributes\":{\"js_property_callbacks\":{\"change:indices\":[{\"id\":\"3465\"}]}},\"id\":\"3457\",\"type\":\"Selection\"},{\"attributes\":{\"data\":{\"State\":[\"active\",\"next\"],\"index\":{\"__ndarray__\":\"AAAAAAEAAAA=\",\"dtype\":\"int32\",\"order\":\"little\",\"shape\":[2]},\"index_hover\":[\"Stage 1\",\"Stage 2\"],\"node_color\":[\"active\",\"next\"]},\"selected\":{\"id\":\"3478\"},\"selection_policy\":{\"id\":\"3477\"}},\"id\":\"3419\",\"type\":\"ColumnDataSource\"},{\"attributes\":{\"axis\":{\"id\":\"3399\"},\"grid_line_color\":null,\"ticker\":null},\"id\":\"3402\",\"type\":\"Grid\"},{\"attributes\":{\"fill_color\":{\"field\":\"node_color\",\"transform\":{\"id\":\"3418\"}},\"size\":{\"value\":15}},\"id\":\"3424\",\"type\":\"Circle\"},{\"attributes\":{\"icon\":null,\"label\":\"Next\",\"margin\":[5,10,5,10],\"min_width\":125,\"subscribed_events\":[\"button_click\"],\"width\":125},\"id\":\"3618\",\"type\":\"Button\"},{\"attributes\":{},\"id\":\"3417\",\"type\":\"BasicTickFormatter\"},{\"attributes\":{\"data\":{\"Stage\":[\"Stage 1\",\"Stage 2\"],\"x\":[0,1],\"y\":{\"__ndarray__\":\"AAAAAAAA4D8AAAAAAADgPw==\",\"dtype\":\"float64\",\"order\":\"little\",\"shape\":[2]}},\"selected\":{\"id\":\"3449\"},\"selection_policy\":{\"id\":\"3473\"}},\"id\":\"3448\",\"type\":\"ColumnDataSource\"},{\"attributes\":{},\"id\":\"3400\",\"type\":\"BasicTicker\"}],\"root_ids\":[\"3381\",\"3672\"]},\"title\":\"Bokeh Application\",\"version\":\"2.3.3\"}};\n",
       "    var render_items = [{\"docid\":\"6b042159-d0b6-4bda-bf00-80baf7e70ca7\",\"root_ids\":[\"3381\"],\"roots\":{\"3381\":\"a1ec2c7e-7e74-4a6a-98f6-573e85ea4ef2\"}}];\n",
       "    root.Bokeh.embed.embed_items_notebook(docs_json, render_items);\n",
       "  }\n",
       "  if (root.Bokeh !== undefined && root.Bokeh.Panel !== undefined && ( root['katex'] !== undefined)) {\n",
       "    embed_document(root);\n",
       "  } else {\n",
       "    var attempts = 0;\n",
       "    var timer = setInterval(function(root) {\n",
       "      if (root.Bokeh !== undefined && root.Bokeh.Panel !== undefined && (root['katex'] !== undefined)) {\n",
       "        clearInterval(timer);\n",
       "        embed_document(root);\n",
       "      } else if (document.readyState == \"complete\") {\n",
       "        attempts++;\n",
       "        if (attempts > 200) {\n",
       "          clearInterval(timer);\n",
       "          console.log(\"Bokeh: ERROR: Unable to run BokehJS code because BokehJS library is missing\");\n",
       "        }\n",
       "      }\n",
       "    }, 25, root)\n",
       "  }\n",
       "})(window);</script>"
      ],
      "text/plain": [
       "Pipeline:\n",
       "    [0] Stage 1: Stage1()\n",
       "    [1] Stage 2: Stage2()"
      ]
     },
     "execution_count": 11,
     "metadata": {
      "application/vnd.holoviews_exec.v0+json": {
       "id": "3381"
      }
     },
     "output_type": "execute_result"
    }
   ],
   "source": [
    "pipeline = pn.pipeline.Pipeline([('Stage 1', Stage1), ('Stage 2', Stage2)])\n",
    "pipeline"
   ]
  },
  {
   "cell_type": "markdown",
   "metadata": {},
   "source": [
    "Pipeline stages may be either ``Parameterized`` instances or ``Parameterized`` classes. With classes, the class will not be instantiated until that stage is reached, which lets you postpone allocating memory, reading files, querying databases, and other expensive actions that might be in the constructor until the parameters for that stage have been collected from previous stages. You can also use an instantiated ``Parameterized`` object instance, e.g. if you want to set some parameters to non-default values before putting the stage into the pipeline, but in that case you will need to ensure that updating the parameters of the instantiated object is sufficient to update the full current state of that stage."
   ]
  },
  {
   "cell_type": "markdown",
   "metadata": {},
   "source": [
    "## Non-linear pipelines\n",
    "\n",
    "Pipelines are not limited to simple linear UI workflows like the ones listed above. They support any arbitrary branching structures, i.e., an acyclic graph. A simple example might be a workflow with two alternative stages that rejoin at a later point. In the very simple example below we declare four stages: an `Input`, `Multiply`, `Add`, and `Result`."
   ]
  },
  {
   "cell_type": "code",
   "execution_count": 12,
   "metadata": {
    "ExecuteTime": {
     "end_time": "2021-11-17T21:09:00.912804Z",
     "start_time": "2021-11-17T21:09:00.796779Z"
    }
   },
   "outputs": [],
   "source": [
    "class Input(param.Parameterized):\n",
    "    \n",
    "    value1 = param.Integer(default=2)\n",
    "\n",
    "    value2 = param.Integer(default=3)\n",
    "    \n",
    "    def panel(self):\n",
    "        return pn.Row(self.param.value1, self.param.value2)\n",
    "\n",
    "class Multiply(Input):\n",
    "    \n",
    "    def panel(self):\n",
    "        return '%.3f * %.3f' % (self.value1, self.value2)\n",
    "\n",
    "    @param.output('result')\n",
    "    def output(self):\n",
    "        return self.value1 * self.value2\n",
    "    \n",
    "class Add(Input):\n",
    "    \n",
    "    def panel(self):\n",
    "        return '%d + %d' % (self.value1, self.value2)\n",
    "    \n",
    "    @param.output('result')\n",
    "    def output(self):\n",
    "        return self.value1 + self.value2\n",
    "    \n",
    "class Result(Input):\n",
    "    \n",
    "    result = param.Number(default=0)\n",
    "\n",
    "    def panel(self):\n",
    "        return self.result\n",
    "    \n",
    "dag = pn.pipeline.Pipeline()\n",
    "\n",
    "dag.add_stage('Input', Input)\n",
    "dag.add_stage('Multiply', Multiply)\n",
    "dag.add_stage('Add', Add)\n",
    "dag.add_stage('Result', Result)"
   ]
  },
  {
   "cell_type": "markdown",
   "metadata": {},
   "source": [
    "After adding all the stages we have to express the relationship between these stages. To declare the graph we can use the ``define_graph`` method and provide a adjacency map, which declares which stage feeds into which other stages. In this case the `Input` feeds into both ``Multiply`` and ``Add`` and both those stages feed into the ``Result``:"
   ]
  },
  {
   "cell_type": "code",
   "execution_count": 13,
   "metadata": {
    "ExecuteTime": {
     "end_time": "2021-11-17T21:10:55.731787Z",
     "start_time": "2021-11-17T21:10:55.706854Z"
    }
   },
   "outputs": [],
   "source": [
    "dag.define_graph({'Input': ('Multiply', 'Add'), 'Multiply': 'Result', 'Add': 'Result'})"
   ]
  },
  {
   "cell_type": "markdown",
   "metadata": {},
   "source": [
    "This is of course a very simple example but it demonstrates the ability to express arbitrary workflows with branching and converging steps:"
   ]
  },
  {
   "cell_type": "code",
   "execution_count": 14,
   "metadata": {
    "ExecuteTime": {
     "end_time": "2021-11-17T21:11:01.906272Z",
     "start_time": "2021-11-17T21:11:01.689676Z"
    }
   },
   "outputs": [
    {
     "data": {},
     "metadata": {},
     "output_type": "display_data"
    },
    {
     "data": {},
     "metadata": {},
     "output_type": "display_data"
    },
    {
     "data": {
      "application/vnd.holoviews_exec.v0+json": "",
      "text/html": [
       "<div id='3748'>\n",
       "\n",
       "\n",
       "\n",
       "\n",
       "\n",
       "  <div class=\"bk-root\" id=\"77544363-e13b-48f6-8774-1595c760588a\" data-root-id=\"3748\"></div>\n",
       "</div>\n",
       "<script type=\"application/javascript\">(function(root) {\n",
       "  function embed_document(root) {\n",
       "    var docs_json = {\"bcf36b39-c0de-4cda-b596-9f2e5acda400\":{\"defs\":[{\"extends\":null,\"module\":null,\"name\":\"ReactiveHTML1\",\"overrides\":[],\"properties\":[]},{\"extends\":null,\"module\":null,\"name\":\"FlexBox1\",\"overrides\":[],\"properties\":[{\"default\":\"flex-start\",\"kind\":null,\"name\":\"align_content\"},{\"default\":\"flex-start\",\"kind\":null,\"name\":\"align_items\"},{\"default\":\"row\",\"kind\":null,\"name\":\"flex_direction\"},{\"default\":\"wrap\",\"kind\":null,\"name\":\"flex_wrap\"},{\"default\":\"flex-start\",\"kind\":null,\"name\":\"justify_content\"}]},{\"extends\":null,\"module\":null,\"name\":\"TemplateActions1\",\"overrides\":[],\"properties\":[{\"default\":0,\"kind\":null,\"name\":\"open_modal\"},{\"default\":0,\"kind\":null,\"name\":\"close_modal\"}]},{\"extends\":null,\"module\":null,\"name\":\"MaterialTemplateActions1\",\"overrides\":[],\"properties\":[{\"default\":0,\"kind\":null,\"name\":\"open_modal\"},{\"default\":0,\"kind\":null,\"name\":\"close_modal\"}]}],\"roots\":{\"references\":[{\"attributes\":{},\"id\":\"3764\",\"type\":\"LinearScale\"},{\"attributes\":{\"line_width\":{\"value\":2}},\"id\":\"3796\",\"type\":\"MultiLine\"},{\"attributes\":{\"js_property_callbacks\":{\"change:indices\":[{\"id\":\"3823\"}]}},\"id\":\"3815\",\"type\":\"Selection\"},{\"attributes\":{\"fill_alpha\":{\"value\":0},\"fill_color\":{\"value\":\"#30a2da\"},\"line_alpha\":{\"value\":0},\"size\":{\"value\":10},\"x\":{\"field\":\"x\"},\"y\":{\"field\":\"y\"}},\"id\":\"3818\",\"type\":\"Scatter\"},{\"attributes\":{\"axis\":{\"id\":\"3766\"},\"grid_line_color\":null,\"ticker\":null},\"id\":\"3769\",\"type\":\"Grid\"},{\"attributes\":{\"callback\":null,\"renderers\":[{\"id\":\"3821\"}],\"tags\":[\"hv_created\"],\"tooltips\":[[\"Stage\",\"@{Stage}\"],[\"State\",\"@{State}\"]]},\"id\":\"3756\",\"type\":\"HoverTool\"},{\"attributes\":{\"fill_alpha\":{\"value\":0},\"fill_color\":{\"value\":\"#30a2da\"},\"line_alpha\":{\"value\":0},\"size\":{\"value\":10},\"x\":{\"field\":\"x\"},\"y\":{\"field\":\"y\"}},\"id\":\"3817\",\"type\":\"Scatter\"},{\"attributes\":{\"fill_alpha\":{\"value\":0},\"fill_color\":{\"value\":\"limegreen\"},\"line_alpha\":{\"value\":0},\"size\":{\"value\":10},\"x\":{\"field\":\"x\"},\"y\":{\"field\":\"y\"}},\"id\":\"3819\",\"type\":\"Scatter\"},{\"attributes\":{\"margin\":[0,0,0,0],\"min_width\":100,\"name\":\"Row10628\",\"width\":100},\"id\":\"3752\",\"type\":\"Row\"},{\"attributes\":{\"children\":[{\"id\":\"3963\"},{\"id\":\"3964\"}],\"margin\":[0,0,0,0],\"name\":\"Row10834\"},\"id\":\"3962\",\"type\":\"Row\"},{\"attributes\":{\"children\":[{\"id\":\"3750\"},{\"id\":\"3757\"},{\"id\":\"3954\"}],\"margin\":[0,0,0,0],\"name\":\"Row10631\",\"sizing_mode\":\"stretch_width\"},\"id\":\"3749\",\"type\":\"Row\"},{\"attributes\":{\"text_color\":\"black\",\"text_font_size\":\"12pt\"},\"id\":\"3758\",\"type\":\"Title\"},{\"attributes\":{},\"id\":\"3771\",\"type\":\"BasicTicker\"},{\"attributes\":{\"disabled\":true,\"margin\":[5,10,5,10],\"min_width\":125,\"width\":125},\"id\":\"3956\",\"type\":\"Select\"},{\"attributes\":{\"axis_label\":\"x\",\"formatter\":{\"id\":\"3781\"},\"major_label_policy\":{\"id\":\"3779\"},\"ticker\":{\"id\":\"3767\"},\"visible\":false},\"id\":\"3766\",\"type\":\"LinearAxis\"},{\"attributes\":{\"data\":{\"Stage\":[\"Input\",\"Add\",\"Multiply\",\"Result\"],\"State\":[\"active\",\"inactive\",\"next\",\"inactive\"],\"x\":[0,1,1,2],\"y\":{\"__ndarray__\":\"AAAAAAAA4D8AAAAAAADQPwAAAAAAAOg/AAAAAAAA4D8=\",\"dtype\":\"float64\",\"order\":\"little\",\"shape\":[4]}},\"selected\":{\"id\":\"3815\"},\"selection_policy\":{\"id\":\"3831\"}},\"id\":\"3814\",\"type\":\"ColumnDataSource\"},{\"attributes\":{\"source\":{\"id\":\"3814\"}},\"id\":\"3822\",\"type\":\"CDSView\"},{\"attributes\":{\"callback\":null,\"renderers\":[{\"id\":\"3821\"}]},\"id\":\"3774\",\"type\":\"TapTool\"},{\"attributes\":{\"fill_alpha\":{\"value\":0},\"fill_color\":{\"value\":\"indianred\"},\"line_alpha\":{\"value\":0},\"size\":{\"value\":10},\"x\":{\"field\":\"x\"},\"y\":{\"field\":\"y\"}},\"id\":\"3820\",\"type\":\"Scatter\"},{\"attributes\":{},\"id\":\"3784\",\"type\":\"BasicTickFormatter\"},{\"attributes\":{},\"id\":\"3833\",\"type\":\"UnionRenderers\"},{\"attributes\":{},\"id\":\"3812\",\"type\":\"NodesAndLinkedEdges\"},{\"attributes\":{\"edge_renderer\":{\"id\":\"3799\"},\"inspection_policy\":{\"id\":\"3812\"},\"layout_provider\":{\"id\":\"3788\"},\"node_renderer\":{\"id\":\"3794\"},\"selection_policy\":{\"id\":\"3810\"}},\"id\":\"3801\",\"type\":\"GraphRenderer\"},{\"attributes\":{\"line_alpha\":{\"value\":0.2},\"line_width\":{\"value\":2}},\"id\":\"3797\",\"type\":\"MultiLine\"},{\"attributes\":{\"children\":[{\"id\":\"3956\"},{\"id\":\"3957\"}],\"margin\":[0,0,0,0],\"name\":\"Column11740\"},\"id\":\"3955\",\"type\":\"Column\"},{\"attributes\":{\"graph_layout\":{\"0\":[0,0.5],\"1\":[1,0.25],\"2\":[1,0.75],\"3\":[2,0.5]}},\"id\":\"3788\",\"type\":\"StaticLayoutProvider\"},{\"attributes\":{\"children\":[{\"id\":\"3749\"},{\"id\":\"3961\"}],\"margin\":[0,0,0,0],\"name\":\"Column10822\",\"sizing_mode\":\"stretch_width\"},\"id\":\"3748\",\"type\":\"Column\"},{\"attributes\":{\"line_width\":{\"value\":2}},\"id\":\"3798\",\"type\":\"MultiLine\"},{\"attributes\":{\"axis\":{\"id\":\"3770\"},\"dimension\":1,\"grid_line_color\":null,\"ticker\":null},\"id\":\"3773\",\"type\":\"Grid\"},{\"attributes\":{\"callback\":null,\"renderers\":[{\"id\":\"3801\"}],\"tags\":[\"hv_created\"],\"tooltips\":[[\"Stage\",\"@{index_hover}\"],[\"State\",\"@{State}\"]]},\"id\":\"3755\",\"type\":\"HoverTool\"},{\"attributes\":{\"data\":{\"end\":{\"__ndarray__\":\"AgAAAAEAAAADAAAAAwAAAA==\",\"dtype\":\"int32\",\"order\":\"little\",\"shape\":[4]},\"start\":{\"__ndarray__\":\"AAAAAAAAAAACAAAAAQAAAA==\",\"dtype\":\"int32\",\"order\":\"little\",\"shape\":[4]}},\"selected\":{\"id\":\"3836\"},\"selection_policy\":{\"id\":\"3835\"}},\"id\":\"3787\",\"type\":\"ColumnDataSource\"},{\"attributes\":{},\"id\":\"3835\",\"type\":\"UnionRenderers\"},{\"attributes\":{},\"id\":\"3782\",\"type\":\"AllLabels\"},{\"attributes\":{},\"id\":\"3831\",\"type\":\"UnionRenderers\"},{\"attributes\":{},\"id\":\"3810\",\"type\":\"NodesOnly\"},{\"attributes\":{\"margin\":[5,10,5,10],\"mode\":\"int\",\"placeholder\":\"0\",\"title\":\"Value2\",\"value\":3,\"value_throttled\":3},\"id\":\"3964\",\"type\":\"Spinner\"},{\"attributes\":{\"children\":[{\"id\":\"3751\"},{\"id\":\"3752\"}],\"margin\":[0,0,0,0],\"name\":\"Column10630\"},\"id\":\"3750\",\"type\":\"Column\"},{\"attributes\":{\"below\":[{\"id\":\"3766\"}],\"center\":[{\"id\":\"3769\"},{\"id\":\"3773\"}],\"height\":100,\"left\":[{\"id\":\"3770\"}],\"margin\":[5,5,5,5],\"min_border_bottom\":10,\"min_border_left\":10,\"min_border_right\":10,\"min_border_top\":10,\"min_width\":400,\"outline_line_alpha\":0,\"renderers\":[{\"id\":\"3801\"},{\"id\":\"3821\"}],\"sizing_mode\":\"stretch_width\",\"title\":{\"id\":\"3758\"},\"toolbar\":{\"id\":\"3775\"},\"toolbar_location\":null,\"width\":null,\"x_range\":{\"id\":\"3753\"},\"x_scale\":{\"id\":\"3762\"},\"y_range\":{\"id\":\"3754\"},\"y_scale\":{\"id\":\"3764\"}},\"id\":\"3757\",\"subtype\":\"Figure\",\"type\":\"Plot\"},{\"attributes\":{\"data\":{\"State\":[\"active\",\"inactive\",\"next\",\"inactive\"],\"index\":{\"__ndarray__\":\"AAAAAAEAAAACAAAAAwAAAA==\",\"dtype\":\"int32\",\"order\":\"little\",\"shape\":[4]},\"index_hover\":[\"Input\",\"Add\",\"Multiply\",\"Result\"],\"node_color\":[\"active\",\"inactive\",\"next\",\"inactive\"]},\"selected\":{\"id\":\"3834\"},\"selection_policy\":{\"id\":\"3833\"}},\"id\":\"3786\",\"type\":\"ColumnDataSource\"},{\"attributes\":{\"fill_alpha\":{\"value\":0.2},\"fill_color\":{\"field\":\"node_color\",\"transform\":{\"id\":\"3785\"}},\"line_alpha\":{\"value\":0.2},\"size\":{\"value\":15}},\"id\":\"3790\",\"type\":\"Circle\"},{\"attributes\":{},\"id\":\"3834\",\"type\":\"Selection\"},{\"attributes\":{\"children\":[{\"id\":\"3962\"}],\"margin\":[0,0,0,0],\"name\":\"Row10821\"},\"id\":\"3961\",\"type\":\"Row\"},{\"attributes\":{\"factors\":[\"inactive\",\"active\",\"error\",\"next\"],\"palette\":[\"white\",\"#5cb85c\",\"red\",\"yellow\"]},\"id\":\"3785\",\"type\":\"CategoricalColorMapper\"},{\"attributes\":{\"client_comm_id\":\"b8158f4951e7445eb9947a03b989b087\",\"comm_id\":\"68bf455f9cfb4eb888de56eb247b3fe3\",\"plot_id\":\"3748\"},\"id\":\"4004\",\"type\":\"panel.models.comm_manager.CommManager\"},{\"attributes\":{\"css_classes\":[\"markdown\"],\"margin\":[0,0,0,5],\"name\":\"Markdown10626\",\"text\":\"&lt;h2&gt;Stage: Input&lt;/h2&gt;\"},\"id\":\"3751\",\"type\":\"panel.models.markup.HTML\"},{\"attributes\":{\"margin\":[5,10,5,10],\"mode\":\"int\",\"placeholder\":\"0\",\"title\":\"Value1\",\"value\":2,\"value_throttled\":2},\"id\":\"3963\",\"type\":\"Spinner\"},{\"attributes\":{},\"id\":\"3762\",\"type\":\"LinearScale\"},{\"attributes\":{\"data_source\":{\"id\":\"3814\"},\"glyph\":{\"id\":\"3817\"},\"hover_glyph\":{\"id\":\"3820\"},\"muted_glyph\":null,\"nonselection_glyph\":{\"id\":\"3818\"},\"selection_glyph\":{\"id\":\"3819\"},\"view\":{\"id\":\"3822\"}},\"id\":\"3821\",\"type\":\"GlyphRenderer\"},{\"attributes\":{\"data_source\":{\"id\":\"3787\"},\"glyph\":{\"id\":\"3796\"},\"hover_glyph\":{\"id\":\"3798\"},\"muted_glyph\":null,\"nonselection_glyph\":{\"id\":\"3797\"},\"view\":{\"id\":\"3800\"}},\"id\":\"3799\",\"type\":\"GlyphRenderer\"},{\"attributes\":{},\"id\":\"3767\",\"type\":\"BasicTicker\"},{\"attributes\":{\"icon\":null,\"label\":\"Next\",\"margin\":[5,10,5,10],\"min_width\":125,\"subscribed_events\":[\"button_click\"],\"width\":125},\"id\":\"3960\",\"type\":\"Button\"},{\"attributes\":{\"reset_end\":1,\"reset_start\":0,\"tags\":[[[\"y\",\"y\",null]]]},\"id\":\"3754\",\"type\":\"Range1d\"},{\"attributes\":{\"active_multi\":null,\"tools\":[{\"id\":\"3755\"},{\"id\":\"3756\"},{\"id\":\"3774\"}]},\"id\":\"3775\",\"type\":\"Toolbar\"},{\"attributes\":{\"axis_label\":\"y\",\"formatter\":{\"id\":\"3784\"},\"major_label_policy\":{\"id\":\"3782\"},\"ticker\":{\"id\":\"3771\"},\"visible\":false},\"id\":\"3770\",\"type\":\"LinearAxis\"},{\"attributes\":{\"size\":{\"value\":15}},\"id\":\"3792\",\"type\":\"Circle\"},{\"attributes\":{},\"id\":\"3781\",\"type\":\"BasicTickFormatter\"},{\"attributes\":{\"margin\":[5,10,5,10],\"min_width\":125,\"options\":[\"Multiply\",\"Add\"],\"value\":\"Multiply\",\"width\":125},\"id\":\"3959\",\"type\":\"Select\"},{\"attributes\":{\"data_source\":{\"id\":\"3786\"},\"glyph\":{\"id\":\"3789\"},\"hover_glyph\":{\"id\":\"3792\"},\"muted_glyph\":{\"id\":\"3793\"},\"nonselection_glyph\":{\"id\":\"3790\"},\"selection_glyph\":{\"id\":\"3791\"},\"view\":{\"id\":\"3795\"}},\"id\":\"3794\",\"type\":\"GlyphRenderer\"},{\"attributes\":{\"args\":{\"selected\":{\"id\":\"3815\"}},\"code\":\"var data = {};\\ndata[\\\"index\\\"] = cb_obj[\\\"indices\\\"];\\n\\nfunction unique_events(events) {\\n  // Processes the event queue ignoring duplicate events\\n  // of the same type\\n  var unique = [];\\n  var unique_events = [];\\n  for (var i=0; i<events.length; i++) {\\n    var _tmpevent = events[i];\\n    event = _tmpevent[0];\\n    data = _tmpevent[1];\\n    if (unique_events.indexOf(event)===-1) {\\n      unique.unshift(data);\\n      unique_events.push(event);\\n      }\\n  }\\n  return unique;\\n}\\n\\nfunction process_events(comm_status) {\\n  // Iterates over event queue and sends events via Comm\\n  var events = unique_events(comm_status.event_buffer);\\n  for (var i=0; i<events.length; i++) {\\n    var data = events[i];\\n    var comm = window.PyViz.comms[data[\\\"comm_id\\\"]];\\n    comm.send(data);\\n  }\\n  comm_status.event_buffer = [];\\n}\\n\\nfunction on_msg(msg) {\\n  // Receives acknowledgement from Python, processing event\\n  // and unblocking Comm if event queue empty\\n  var metadata = msg.metadata;\\n  var comm_id = metadata.comm_id\\n  var comm_status = window.PyViz.comm_status[comm_id];\\n  if (comm_status.event_buffer.length) {\\n    process_events(comm_status);\\n    comm_status.blocked = true;\\n    comm_status.time = Date.now()+20;\\n  } else {\\n    comm_status.blocked = false;\\n  }\\n  comm_status.event_buffer = [];\\n  if ((metadata.msg_type == \\\"Ready\\\") && metadata.content) {\\n    console.log(\\\"Python callback returned following output:\\\", metadata.content);\\n  } else if (metadata.msg_type == \\\"Error\\\") {\\n    console.log(\\\"Python failed with the following traceback:\\\", metadata.traceback)\\n  }\\n}\\n\\n// Initialize Comm\\nif ((window.PyViz == undefined) || (window.PyViz.comm_manager == undefined)) { return }\\nvar comm = window.PyViz.comm_manager.get_client_comm(\\\"3748\\\", \\\"e90da0757d0e4571847369e55e2ec194\\\", on_msg);\\nif (!comm) {\\n  return\\n}\\n\\n// Initialize event queue and timeouts for Comm\\nvar comm_status = window.PyViz.comm_status[\\\"e90da0757d0e4571847369e55e2ec194\\\"];\\nif (comm_status === undefined) {\\n  comm_status = {event_buffer: [], blocked: false, time: Date.now()}\\n  window.PyViz.comm_status[\\\"e90da0757d0e4571847369e55e2ec194\\\"] = comm_status\\n}\\n\\n// Add current event to queue and process queue if not blocked\\nvar event_name = cb_obj.event_name;\\nif (event_name === undefined) {\\n  // we are a widget not an event... fake a key.\\n  event_name = Object.keys(data).join(',');\\n}\\ndata['comm_id'] = \\\"e90da0757d0e4571847369e55e2ec194\\\";\\nvar timeout = comm_status.time + 20000;\\nif ((comm_status.blocked && (Date.now() < timeout))) {\\n  comm_status.event_buffer.unshift([event_name, data]);\\n} else {\\n  comm_status.event_buffer.unshift([event_name, data]);\\n  setTimeout(function() { process_events(comm_status); }, 20);\\n  comm_status.blocked = true;\\n  comm_status.time = Date.now()+20;\\n}\\n\"},\"id\":\"3823\",\"type\":\"CustomJS\"},{\"attributes\":{\"children\":[{\"id\":\"3955\"},{\"id\":\"3958\"}],\"margin\":[0,0,0,0],\"name\":\"Row10629\"},\"id\":\"3954\",\"type\":\"Row\"},{\"attributes\":{\"fill_color\":{\"field\":\"node_color\",\"transform\":{\"id\":\"3785\"}},\"size\":{\"value\":15}},\"id\":\"3789\",\"type\":\"Circle\"},{\"attributes\":{\"fill_color\":{\"field\":\"node_color\",\"transform\":{\"id\":\"3785\"}},\"size\":{\"value\":15}},\"id\":\"3791\",\"type\":\"Circle\"},{\"attributes\":{\"children\":[{\"id\":\"3959\"},{\"id\":\"3960\"}],\"margin\":[0,0,0,0],\"name\":\"Column11741\"},\"id\":\"3958\",\"type\":\"Column\"},{\"attributes\":{\"disabled\":true,\"icon\":null,\"label\":\"Previous\",\"margin\":[5,10,5,10],\"min_width\":125,\"subscribed_events\":[\"button_click\"],\"width\":125},\"id\":\"3957\",\"type\":\"Button\"},{\"attributes\":{\"source\":{\"id\":\"3786\"}},\"id\":\"3795\",\"type\":\"CDSView\"},{\"attributes\":{\"source\":{\"id\":\"3787\"}},\"id\":\"3800\",\"type\":\"CDSView\"},{\"attributes\":{\"end\":2.25,\"reset_end\":2.25,\"reset_start\":-0.25,\"start\":-0.25,\"tags\":[[[\"x\",\"x\",null]]]},\"id\":\"3753\",\"type\":\"Range1d\"},{\"attributes\":{},\"id\":\"3779\",\"type\":\"AllLabels\"},{\"attributes\":{},\"id\":\"3836\",\"type\":\"Selection\"},{\"attributes\":{\"fill_color\":{\"field\":\"node_color\",\"transform\":{\"id\":\"3785\"}},\"size\":{\"value\":15}},\"id\":\"3793\",\"type\":\"Circle\"}],\"root_ids\":[\"3748\",\"4004\"]},\"title\":\"Bokeh Application\",\"version\":\"2.3.3\"}};\n",
       "    var render_items = [{\"docid\":\"bcf36b39-c0de-4cda-b596-9f2e5acda400\",\"root_ids\":[\"3748\"],\"roots\":{\"3748\":\"77544363-e13b-48f6-8774-1595c760588a\"}}];\n",
       "    root.Bokeh.embed.embed_items_notebook(docs_json, render_items);\n",
       "  }\n",
       "  if (root.Bokeh !== undefined && root.Bokeh.Panel !== undefined && ( root['katex'] !== undefined)) {\n",
       "    embed_document(root);\n",
       "  } else {\n",
       "    var attempts = 0;\n",
       "    var timer = setInterval(function(root) {\n",
       "      if (root.Bokeh !== undefined && root.Bokeh.Panel !== undefined && (root['katex'] !== undefined)) {\n",
       "        clearInterval(timer);\n",
       "        embed_document(root);\n",
       "      } else if (document.readyState == \"complete\") {\n",
       "        attempts++;\n",
       "        if (attempts > 200) {\n",
       "          clearInterval(timer);\n",
       "          console.log(\"Bokeh: ERROR: Unable to run BokehJS code because BokehJS library is missing\");\n",
       "        }\n",
       "      }\n",
       "    }, 25, root)\n",
       "  }\n",
       "})(window);</script>"
      ],
      "text/plain": [
       "Pipeline:\n",
       "    [0] Input: Input()\n",
       "    [1] Multiply: Multiply()\n",
       "    [2] Add: Add()\n",
       "    [3] Result: Result()"
      ]
     },
     "execution_count": 14,
     "metadata": {
      "application/vnd.holoviews_exec.v0+json": {
       "id": "3748"
      }
     },
     "output_type": "execute_result"
    }
   ],
   "source": [
    "dag"
   ]
  },
  {
   "cell_type": "markdown",
   "metadata": {},
   "source": [
    "## Custom layout\n",
    "\n",
    "For a `Pipeline` object `p`, `p.layout` is a Panel layout with the following hierarchically arranged components:\n",
    "\n",
    "* `layout`: The overall layout of the header and stage.\n",
    "  - `header`: The navigation components and network diagram.\n",
    "    * `title`: The name of the current stage.\n",
    "    * `network`: A network diagram representing the pipeline.\n",
    "    * `buttons`: All navigation buttons and selectors.\n",
    "       - `prev_button`: The button to go to the previous stage.\n",
    "       - `prev_selector`: The selector widget to select between previous branching stages.\n",
    "       - `next_button`:   The button to go to the previous stage\n",
    "       - `next_selector`: The selector widget to select the next branching stages.\n",
    "  * `stage`: The contents of the current pipeline stage.\n",
    "\n",
    "You can pick and choose any combination of these components to display in any configuration, e.g. just `pn.Column(p.title,p.network,p.stage)` if you don't want to show any buttons for a pipeline `p`.\n",
    "\n",
    "For instance, let's rearrange our `dag` pipeline to fit into a smaller horizontal space:"
   ]
  },
  {
   "cell_type": "code",
   "execution_count": null,
   "metadata": {},
   "outputs": [],
   "source": [
    "pn.Column(\n",
    "    pn.Row(dag.title, pn.layout.HSpacer(), dag.buttons),\n",
    "    dag.network,\n",
    "    dag.stage\n",
    ")"
   ]
  },
  {
   "cell_type": "markdown",
   "metadata": {},
   "source": [
    "## Programmatic flow control\n",
    "\n",
    "By default, controlling the flow between different stages is done using the \"Previous\" and \"Next\" buttons. However often we want to control the UI flow programmatically from within a stage. A `Pipeline` allows programmatic control by declaring a `ready_parameter` either per stage or globally on the Pipeline, which can block or unblock the buttons depending on the information obtained so far, as well as advancing automatically when combined with the ``auto_advance`` parameter. In this way we can control the workflow programmatically from inside the stages.\n",
    "\n",
    "In the example below we create a version of the previous workflow that can be used without the buttons by declaring ``ready`` parameters for each of the stages, which we can toggle with a custom button or simply set to `True` by default to automatically skip the stage.\n",
    "\n",
    "Lastly, we can also control which branching stage to switch to from within a stage. To do so we declare a parameter which will hold the name of the next stage to switch to, in this case selecting between 'Add' and 'Multiply'. Later we will point the pipeline to this parameter using the `next_parameter` argument."
   ]
  },
  {
   "cell_type": "code",
   "execution_count": null,
   "metadata": {},
   "outputs": [],
   "source": [
    "class AutoInput(Input):\n",
    "\n",
    "    operator = param.Selector(default='Add', objects=['Multiply', 'Add'])\n",
    "\n",
    "    ready = param.Boolean(default=False)\n",
    "    \n",
    "    def panel(self):\n",
    "        button = pn.widgets.Button(name='Go', button_type='success')\n",
    "        button.on_click(lambda event: setattr(self, 'ready', True))\n",
    "        widgets = pn.Row(self.param.value1, self.param.operator, self.param.value2)\n",
    "        for w in widgets:\n",
    "            w.width = 85\n",
    "        return pn.Column(widgets, button)\n",
    "\n",
    "class AutoMultiply(Multiply):\n",
    "    \n",
    "    ready = param.Boolean(default=True)\n",
    "\n",
    "class AutoAdd(Add):\n",
    "    \n",
    "    ready = param.Boolean(default=True)"
   ]
  },
  {
   "cell_type": "markdown",
   "metadata": {},
   "source": [
    "Now that we have declared these stages let us set up the pipeline, ensuring that we declare the `ready_parameter`, `next_parameter`, and `auto_advance` settings appropriately:"
   ]
  },
  {
   "cell_type": "code",
   "execution_count": null,
   "metadata": {},
   "outputs": [],
   "source": [
    "dag = pn.pipeline.Pipeline() # could instead set ready_parameter='ready' and auto_advance=True globally here\n",
    "\n",
    "dag.add_stage('Input',    AutoInput,    ready_parameter='ready', auto_advance=True, next_parameter='operator')\n",
    "dag.add_stage('Multiply', AutoMultiply, ready_parameter='ready', auto_advance=True)\n",
    "dag.add_stage('Add',      AutoAdd,      ready_parameter='ready', auto_advance=True)\n",
    "dag.add_stage('Result',   Result)\n",
    "\n",
    "dag.define_graph({'Input': ('Multiply', 'Add'), 'Multiply': 'Result', 'Add': 'Result'})"
   ]
  },
  {
   "cell_type": "markdown",
   "metadata": {},
   "source": [
    "Finally we display the pipeline without the buttons, which is appropriate because all the flow control is now handled from within the stages:"
   ]
  },
  {
   "cell_type": "code",
   "execution_count": null,
   "metadata": {},
   "outputs": [],
   "source": [
    "pn.Column(\n",
    "    dag.title,\n",
    "    dag.network,\n",
    "    dag.stage\n",
    ")"
   ]
  },
  {
   "cell_type": "markdown",
   "metadata": {},
   "source": [
    "As you can see, a panel Pipeline can be used to set up complex workflows when needed, with each stage controlled either manually or from within the stage, without having to define complex callbacks or other GUI logic."
   ]
  }
 ],
 "metadata": {
  "kernelspec": {
   "display_name": "Python [conda env:pydelmod]",
   "language": "python",
   "name": "conda-env-pydelmod-py"
  },
  "language_info": {
   "codemirror_mode": {
    "name": "ipython",
    "version": 3
   },
   "file_extension": ".py",
   "mimetype": "text/x-python",
   "name": "python",
   "nbconvert_exporter": "python",
   "pygments_lexer": "ipython3",
   "version": "3.7.11"
  },
  "toc": {
   "base_numbering": 1,
   "nav_menu": {},
   "number_sections": true,
   "sideBar": true,
   "skip_h1_title": false,
   "title_cell": "Table of Contents",
   "title_sidebar": "Contents",
   "toc_cell": false,
   "toc_position": {},
   "toc_section_display": true,
   "toc_window_display": false
  }
 },
 "nbformat": 4,
 "nbformat_minor": 4
}
